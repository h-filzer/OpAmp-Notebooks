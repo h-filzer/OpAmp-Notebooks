{
 "cells": [
  {
   "cell_type": "markdown",
   "metadata": {},
   "source": [
    "## With known $V_ref$ we can design a source around this value using a voltage divider\n",
    "\n",
    "$$\n",
    "\\dfrac{V_{ref}}{V_{x}}=\\dfrac{R_2}{R1+R_2}\n",
    "$$\n"
   ]
  },
  {
   "cell_type": "code",
   "execution_count": 9,
   "metadata": {
    "tags": []
   },
   "outputs": [],
   "source": [
    "%matplotlib inline\n",
    "# %pip install sympy numpy pyspice import-ipynb\n",
    "import dill\n",
    "#dill.load_session(session_file_name)\n",
    "import sympy as sp\n",
    "from sympy import solve, symbols, nsimplify, Rational, latex, Eq, solveset, S, linsolve, Matrix, N\n",
    "from IPython.display import Math, display\n",
    "\n",
    "# Importing packages\n",
    "import matplotlib.pyplot as plt\n",
    "import numpy as np\n",
    "\n",
    "from operator import itemgetter\n",
    "from IPython.display import Markdown as md\n",
    "\n",
    "from ESeries import ESeries\n",
    "\n",
    "sp.init_printing()\n",
    "series= ESeries(ESeries.Series.E96)\n",
    "\n"
   ]
  },
  {
   "cell_type": "code",
   "execution_count": 10,
   "metadata": {
    "tags": []
   },
   "outputs": [
    {
     "data": {
      "image/png": "[encoded data removed]",
      "text/latex": [
       "$\\displaystyle \\left( 10, \\  2.38085852838298, \\  3\\right)$"
      ],
      "text/plain": [
       "(10, 2.38085852838298, 3)"
      ]
     },
     "execution_count": 10,
     "metadata": {},
     "output_type": "execute_result"
    }
   ],
   "source": [
    "%store -r vref\n",
    "%store -r vx_chosen\n",
    "%store -r case\n",
    "vref = vref\n",
    "case=case\n",
    "vx_chosen = vx_chosen\n",
    "vx_chosen, vref, case\n"
   ]
  },
  {
   "cell_type": "code",
   "execution_count": 11,
   "metadata": {},
   "outputs": [
    {
     "data": {
      "image/png": "[encoded data removed]",
      "text/latex": [
       "$\\displaystyle \\frac{2.38085852838298}{V_{x}} = \\frac{R_{2}}{R_{1} + R_{2}}$"
      ],
      "text/plain": [
       "2.38085852838298      R₂  \n",
       "──────────────── = ───────\n",
       "       Vₓ          R₁ + R₂"
      ]
     },
     "execution_count": 11,
     "metadata": {},
     "output_type": "execute_result"
    }
   ],
   "source": [
    "vx, r1, r2 = symbols('V_x R_1 R_2', real=True)\n",
    "divider_eq=Eq(vref/vx, r2/(r1+r2))\n",
    "divider_eq\n"
   ]
  },
  {
   "cell_type": "markdown",
   "metadata": {},
   "source": [
    "### Resolve matching series Resistors for given ratio of $\\dfrac{V_{out}}{V_{in}}$"
   ]
  },
  {
   "cell_type": "code",
   "execution_count": 12,
   "metadata": {},
   "outputs": [
    {
     "name": "stdout",
     "output_type": "stream",
     "text": [
      "[1.0, 1.02, 1.05, 1.07, 1.1, 1.13, 1.15, 1.18, 1.21, 1.24]\n"
     ]
    },
    {
     "data": {
      "image/png": "[encoded data removed]",
      "text/latex": [
       "$\\displaystyle \\left( 11500.0, \\  3570.0\\right)$"
      ],
      "text/plain": [
       "(11500.0, 3570.0)"
      ]
     },
     "execution_count": 12,
     "metadata": {},
     "output_type": "execute_result"
    }
   ],
   "source": [
    "r1_series_value,r2_series_value=series.voltage_divider(float(vx_chosen),round(float(vref),3),series=series.Series.E96)\n",
    "(r1_series_value,r2_series_value)"
   ]
  },
  {
   "cell_type": "markdown",
   "metadata": {},
   "source": [
    "### Calculate $V_{ref}$ with series resistors  "
   ]
  },
  {
   "cell_type": "code",
   "execution_count": 13,
   "metadata": {},
   "outputs": [
    {
     "data": {
      "image/png": "[encoded data removed]",
      "text/latex": [
       "$\\displaystyle 2.36894492368945$"
      ],
      "text/plain": [
       "2.36894492368945"
      ]
     },
     "execution_count": 13,
     "metadata": {},
     "output_type": "execute_result"
    }
   ],
   "source": [
    "#Calutate Vref wit eseries Values\n",
    "vref_calc=solve(divider_eq,[vref])[0]\n",
    "vref=vref_calc.subs(vx,vx_chosen).subs(r2,r2_series_value).subs(r1,r1_series_value)\n",
    "vref"
   ]
  },
  {
   "cell_type": "code",
   "execution_count": 14,
   "metadata": {},
   "outputs": [
    {
     "data": {
      "text/markdown": [
       "### Calculated values for $$V_x=10V$$ $$R_1 = 11500 \\Omega $$ $$R_2 = 3570 \\Omega $$ $$V_ref= 2.369V, I=0.000663570A$$"
      ],
      "text/plain": [
       "<IPython.core.display.Markdown object>"
      ]
     },
     "execution_count": 14,
     "metadata": {},
     "output_type": "execute_result"
    }
   ],
   "source": [
    "md(f\"### Calculated values for $$V_x={vx_chosen}V$$ $$R_1 = {r1_series_value:.0f} \\Omega $$ $$R_2 = {r2_series_value:.0f} \\Omega $$ $$V_ref= {vref:.3f}V, I={(vx_chosen/(r1_series_value+r2_series_value)):.9f}A$$\")"
   ]
  },
  {
   "cell_type": "code",
   "execution_count": 15,
   "metadata": {},
   "outputs": [
    {
     "data": {
      "text/markdown": [
       "## Proceed to Simulation for [Case3](./04-simulation-case3.ipynb)"
      ],
      "text/plain": [
       "<IPython.core.display.Markdown object>"
      ]
     },
     "execution_count": 15,
     "metadata": {},
     "output_type": "execute_result"
    }
   ],
   "source": [
    "md(f\"## Proceed to Simulation for [Case{case}](./04-simulation-case{case}.ipynb)\")"
   ]
  },
  {
   "cell_type": "code",
   "execution_count": 16,
   "metadata": {},
   "outputs": [
    {
     "name": "stdout",
     "output_type": "stream",
     "text": [
      "Stored 'r1_series_value' (float)\n",
      "Stored 'r2_series_value' (float)\n",
      "Stored 'vref' (Float)\n"
     ]
    }
   ],
   "source": [
    "# Keep this vales as we need them in the Notebooks for the different cases\n",
    "%store r1_series_value\n",
    "%store r2_series_value\n",
    "%store vref"
   ]
  }
 ],
 "metadata": {
  "kernelspec": {
   "display_name": "Python 3 (ipykernel)",
   "language": "python",
   "name": "python3"
  },
  "language_info": {
   "codemirror_mode": {
    "name": "ipython",
    "version": 3
   },
   "file_extension": ".py",
   "mimetype": "text/x-python",
   "name": "python",
   "nbconvert_exporter": "python",
   "pygments_lexer": "ipython3",
   "version": "3.9.1"
  },
  "vscode": {
   "interpreter": {
    "hash": "73618078aa7355328b5767d0aabf7a6b84d22841c1d24f391d059f02c5361fef"
   }
  },
  "widgets": {
   "application/vnd.jupyter.widget-state+json": {
    "state": {},
    "version_major": 2,
    "version_minor": 0
   }
  }
 },
 "nbformat": 4,
 "nbformat_minor": 4
}
