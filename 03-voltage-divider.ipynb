{
 "cells": [
  {
   "cell_type": "markdown",
   "metadata": {},
   "source": [
    "## With known $V_{ref}$ we can design a source around this value using a voltage divider\n",
    "\n",
    "$$\n",
    "\\dfrac{V_{ref}}{V_{x}}=\\dfrac{R_2}{R1+R_2}\n",
    "$$\n"
   ]
  },
  {
   "cell_type": "code",
   "execution_count": 18,
   "metadata": {},
   "outputs": [],
   "source": [
    "from ESeries import ESeries\n",
    "#Define the E_Series to chose the Resistors from \n",
    "series_range= ESeries.Series.E24"
   ]
  },
  {
   "cell_type": "code",
   "execution_count": 19,
   "metadata": {
    "tags": []
   },
   "outputs": [],
   "source": [
    "%matplotlib inline\n",
    "# %pip install sympy numpy pyspice import-ipynb\n",
    "import dill\n",
    "#dill.load_session(session_file_name)\n",
    "import sympy as sp\n",
    "from sympy import solve, symbols, Eq, S\n",
    "from IPython.display import Math, display\n",
    "\n",
    "# Importing packages\n",
    "import matplotlib.pyplot as plt\n",
    "import numpy as np\n",
    "\n",
    "from operator import itemgetter\n",
    "from IPython.display import Markdown as md\n",
    "\n",
    "sp.init_printing()\n",
    "series= ESeries()\n",
    "\n",
    "\n"
   ]
  },
  {
   "cell_type": "code",
   "execution_count": 20,
   "metadata": {
    "tags": []
   },
   "outputs": [
    {
     "data": {
      "image/png": "[encoded data removed]",
      "text/latex": [
       "$\\displaystyle \\left( 12, \\  6.91935483870968, \\  8\\right)$"
      ],
      "text/plain": [
       "(12, 6.91935483870968, 8)"
      ]
     },
     "execution_count": 20,
     "metadata": {},
     "output_type": "execute_result"
    }
   ],
   "source": [
    "%store -r vref\n",
    "%store -r vx_chosen\n",
    "%store -r case\n",
    "%store -r Vcc\n",
    "vref = vref\n",
    "case=case\n",
    "vx_chosen = vx_chosen\n",
    "vx_chosen, vref, case\n"
   ]
  },
  {
   "cell_type": "code",
   "execution_count": 21,
   "metadata": {},
   "outputs": [
    {
     "data": {
      "image/png": "[encoded data removed]",
      "text/latex": [
       "$\\displaystyle \\frac{6.91935483870968}{V_{x}} = \\frac{R_{2}}{R_{1} + R_{2}}$"
      ],
      "text/plain": [
       "6.91935483870968      R₂  \n",
       "──────────────── = ───────\n",
       "       Vₓ          R₁ + R₂"
      ]
     },
     "execution_count": 21,
     "metadata": {},
     "output_type": "execute_result"
    }
   ],
   "source": [
    "vx, r1, r2 = symbols('V_x R_1 R_2', real=True)\n",
    "divider_eq=Eq(vref/vx, r2/(r1+r2))\n",
    "divider_eq\n"
   ]
  },
  {
   "cell_type": "markdown",
   "metadata": {},
   "source": [
    "### Resolve matching series Resistors for given ratio of $\\dfrac{V_{out}}{V_{in}}$"
   ]
  },
  {
   "cell_type": "code",
   "execution_count": 22,
   "metadata": {},
   "outputs": [
    {
     "data": {
      "image/png": "[encoded data removed]",
      "text/latex": [
       "$\\displaystyle 6.919$"
      ],
      "text/plain": [
       "6.919"
      ]
     },
     "execution_count": 22,
     "metadata": {},
     "output_type": "execute_result"
    }
   ],
   "source": [
    "vref.evalf(4)"
   ]
  },
  {
   "cell_type": "code",
   "execution_count": 23,
   "metadata": {},
   "outputs": [
    {
     "name": "stdout",
     "output_type": "stream",
     "text": [
      "[{'r1': 22000.0000000000, 'r2': 30000.0000000000, 'ratio_difference': 0.000339743589743535}, {'r1': 20000.0000000000, 'r2': 27000.0000000000, 'ratio_difference': 0.00211524822695031}, {'r1': 24000.0000000000, 'r2': 33000.0000000000, 'ratio_difference': 0.00236403508771932}, {'r1': 56000.0000000000, 'r2': 75000.0000000000, 'ratio_difference': 0.00406424936386762}, {'r1': 68000.0000000000, 'r2': 91000.0000000000, 'ratio_difference': 0.00425628930817612}]\n"
     ]
    },
    {
     "data": {
      "image/png": "[encoded data removed]",
      "text/latex": [
       "$\\displaystyle \\left( 22000.0, \\  30000.0, \\  0.000339743589743535\\right)$"
      ],
      "text/plain": [
       "(22000.0, 30000.0, 0.000339743589743535)"
      ]
     },
     "execution_count": 23,
     "metadata": {},
     "output_type": "execute_result"
    }
   ],
   "source": [
    "voltage_divider_ratio=series.voltage_divider(vin=float(vx_chosen),vout=round(float(vref),3),series=series_range, r1_min=20e3)\n",
    "r1_series_value=voltage_divider_ratio['r1']\n",
    "r2_series_value=voltage_divider_ratio['r2']\n",
    "delta_ratio=voltage_divider_ratio['ratio_difference']\n",
    "(r1_series_value,r2_series_value,delta_ratio)"
   ]
  },
  {
   "cell_type": "markdown",
   "metadata": {},
   "source": [
    "### Calculate $V_{ref}$ with series resistors  "
   ]
  },
  {
   "cell_type": "code",
   "execution_count": 24,
   "metadata": {},
   "outputs": [
    {
     "data": {
      "image/png": "[encoded data removed]",
      "text/latex": [
       "$\\displaystyle 6.92307692307692$"
      ],
      "text/plain": [
       "6.92307692307692"
      ]
     },
     "execution_count": 24,
     "metadata": {},
     "output_type": "execute_result"
    }
   ],
   "source": [
    "#Calutate Vref wit eseries Values\n",
    "vref_solved=solve(divider_eq,[vref])[0]\n",
    "vref_calc=vref_solved.subs(vx,vx_chosen).subs(r2,r2_series_value).subs(r1,r1_series_value)\n",
    "vref_calc"
   ]
  },
  {
   "cell_type": "code",
   "execution_count": 25,
   "metadata": {},
   "outputs": [
    {
     "data": {
      "text/markdown": [
       "### Calculated values for $$V_x=12V$$ $$R_1 = 22000 \\Omega $$ $$R_2 = 30000 \\Omega $$ $$V_ref= 6.9231V, I=0.000230769A$$"
      ],
      "text/plain": [
       "<IPython.core.display.Markdown object>"
      ]
     },
     "execution_count": 25,
     "metadata": {},
     "output_type": "execute_result"
    }
   ],
   "source": [
    "md(f\"### Calculated values for $$V_x={vx_chosen}V$$ $$R_1 = {r1_series_value:.0f} \\Omega $$ $$R_2 = {r2_series_value:.0f} \\Omega $$ $$V_ref= {vref_calc:.4f}V, I={(vx_chosen/(r1_series_value+r2_series_value)):.9f}A$$\")"
   ]
  },
  {
   "cell_type": "code",
   "execution_count": 26,
   "metadata": {},
   "outputs": [
    {
     "data": {
      "text/markdown": [
       "## Proceed to Simulation for [Case8](./04-simulation-case8.ipynb)"
      ],
      "text/plain": [
       "<IPython.core.display.Markdown object>"
      ]
     },
     "execution_count": 26,
     "metadata": {},
     "output_type": "execute_result"
    }
   ],
   "source": [
    "md(f\"## Proceed to Simulation for [Case{case}](./04-simulation-case{case}.ipynb)\")"
   ]
  },
  {
   "cell_type": "code",
   "execution_count": 27,
   "metadata": {},
   "outputs": [],
   "source": [
    "#swap variables to be consistent with other cases\n",
    "vref=vref_calc"
   ]
  },
  {
   "cell_type": "code",
   "execution_count": 28,
   "metadata": {},
   "outputs": [
    {
     "name": "stdout",
     "output_type": "stream",
     "text": [
      "Stored 'r1_series_value' (Float)\n",
      "Stored 'r2_series_value' (Float)\n",
      "Stored 'vref' (Float)\n"
     ]
    }
   ],
   "source": [
    "# Keep this vales as we need them in the Notebooks for the different cases\n",
    "%store r1_series_value\n",
    "%store r2_series_value\n",
    "%store vref"
   ]
  }
 ],
 "metadata": {
  "kernelspec": {
   "display_name": "Python 3 (ipykernel)",
   "language": "python",
   "name": "python3"
  },
  "language_info": {
   "codemirror_mode": {
    "name": "ipython",
    "version": 3
   },
   "file_extension": ".py",
   "mimetype": "text/x-python",
   "name": "python",
   "nbconvert_exporter": "python",
   "pygments_lexer": "ipython3",
   "version": "3.9.1"
  },
  "vscode": {
   "interpreter": {
    "hash": "73618078aa7355328b5767d0aabf7a6b84d22841c1d24f391d059f02c5361fef"
   }
  },
  "widgets": {
   "application/vnd.jupyter.widget-state+json": {
    "state": {},
    "version_major": 2,
    "version_minor": 0
   }
  }
 },
 "nbformat": 4,
 "nbformat_minor": 4
}
