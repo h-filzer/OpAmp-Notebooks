{
 "cells": [
  {
   "cell_type": "markdown",
   "metadata": {},
   "source": [
    "## With known $V_ref$ we can design a source around this value using a voltage divider\n",
    "\n",
    "$$\n",
    "\\dfrac{V_{ref}}{V_{x}}=\\dfrac{R_2}{R1+R_2}\n",
    "$$\n"
   ]
  },
  {
   "cell_type": "code",
   "execution_count": 1,
   "metadata": {},
   "outputs": [],
   "source": [
    "from ESeries import ESeries\n",
    "#Define the E_Series to chose the Resistors from \n",
    "series_range= ESeries.Series.E24"
   ]
  },
  {
   "cell_type": "code",
   "execution_count": 2,
   "metadata": {
    "tags": []
   },
   "outputs": [],
   "source": [
    "%matplotlib inline\n",
    "# %pip install sympy numpy pyspice import-ipynb\n",
    "import dill\n",
    "#dill.load_session(session_file_name)\n",
    "import sympy as sp\n",
    "from sympy import solve, symbols, nsimplify, Rational, latex, Eq, solveset, S, linsolve, Matrix, N\n",
    "from IPython.display import Math, display\n",
    "\n",
    "# Importing packages\n",
    "import matplotlib.pyplot as plt\n",
    "import numpy as np\n",
    "\n",
    "from operator import itemgetter\n",
    "from IPython.display import Markdown as md\n",
    "\n",
    "sp.init_printing()\n",
    "series= ESeries()\n",
    "\n",
    "\n"
   ]
  },
  {
   "cell_type": "code",
   "execution_count": 3,
   "metadata": {
    "tags": []
   },
   "outputs": [
    {
     "data": {
      "image/png": "[encoded data removed]",
      "text/latex": [
       "$\\displaystyle \\left( 10, \\  2.3963963963964, \\  3\\right)$"
      ],
      "text/plain": [
       "(10, 2.3963963963964, 3)"
      ]
     },
     "execution_count": 3,
     "metadata": {},
     "output_type": "execute_result"
    }
   ],
   "source": [
    "%store -r vref\n",
    "%store -r vx_chosen\n",
    "%store -r case\n",
    "vref = vref\n",
    "case=case\n",
    "vx_chosen = vx_chosen\n",
    "vx_chosen, vref, case\n"
   ]
  },
  {
   "cell_type": "code",
   "execution_count": 4,
   "metadata": {},
   "outputs": [
    {
     "data": {
      "image/png": "[encoded data removed]",
      "text/latex": [
       "$\\displaystyle \\frac{2.3963963963964}{V_{x}} = \\frac{R_{2}}{R_{1} + R_{2}}$"
      ],
      "text/plain": [
       "2.3963963963964      R₂  \n",
       "─────────────── = ───────\n",
       "       Vₓ         R₁ + R₂"
      ]
     },
     "execution_count": 4,
     "metadata": {},
     "output_type": "execute_result"
    }
   ],
   "source": [
    "vx, r1, r2 = symbols('V_x R_1 R_2', real=True)\n",
    "divider_eq=Eq(vref/vx, r2/(r1+r2))\n",
    "divider_eq\n"
   ]
  },
  {
   "cell_type": "markdown",
   "metadata": {},
   "source": [
    "### Resolve matching series Resistors for given ratio of $\\dfrac{V_{out}}{V_{in}}$"
   ]
  },
  {
   "cell_type": "code",
   "execution_count": 5,
   "metadata": {},
   "outputs": [
    {
     "data": {
      "text/plain": [
       "('r1', 'r2', 'ratio_difference')"
      ]
     },
     "execution_count": 5,
     "metadata": {},
     "output_type": "execute_result"
    }
   ],
   "source": [
    "r1_series_value,r2_series_value,delta_ratio=series.voltage_divider(float(vx_chosen),round(float(vref),3),series=series_range)\n",
    "(r1_series_value,r2_series_value,delta_ratio)"
   ]
  },
  {
   "cell_type": "markdown",
   "metadata": {},
   "source": [
    "### Calculate $V_{ref}$ with series resistors  "
   ]
  },
  {
   "cell_type": "code",
   "execution_count": 6,
   "metadata": {},
   "outputs": [
    {
     "data": {
      "image/png": "[encoded data removed]",
      "text/latex": [
       "$\\displaystyle \\frac{10 r_{2}}{r_{1} + r_{2}}$"
      ],
      "text/plain": [
       " 10⋅r₂ \n",
       "───────\n",
       "r₁ + r₂"
      ]
     },
     "execution_count": 6,
     "metadata": {},
     "output_type": "execute_result"
    }
   ],
   "source": [
    "#Calutate Vref wit eseries Values\n",
    "vref_calc=solve(divider_eq,[vref])[0]\n",
    "vref=vref_calc.subs(vx,vx_chosen).subs(r2,r2_series_value).subs(r1,r1_series_value)\n",
    "vref"
   ]
  },
  {
   "cell_type": "code",
   "execution_count": 7,
   "metadata": {},
   "outputs": [
    {
     "ename": "ValueError",
     "evalue": "Unknown format code 'f' for object of type 'str'",
     "output_type": "error",
     "traceback": [
      "\u001b[0;31m---------------------------------------------------------------------------\u001b[0m",
      "\u001b[0;31mValueError\u001b[0m                                Traceback (most recent call last)",
      "Cell \u001b[0;32mIn [7], line 1\u001b[0m\n\u001b[0;32m----> 1\u001b[0m md(\u001b[39mf\u001b[39m\u001b[39m\"\u001b[39m\u001b[39m### Calculated values for $$V_x=\u001b[39m\u001b[39m{\u001b[39;00mvx_chosen\u001b[39m}\u001b[39;00m\u001b[39mV$$ $$R_1 = \u001b[39m\u001b[39m{\u001b[39;00mr1_series_value\u001b[39m:\u001b[39;00m\u001b[39m.0f\u001b[39m\u001b[39m}\u001b[39;00m\u001b[39m \u001b[39m\u001b[39m\\\u001b[39m\u001b[39mOmega $$ $$R_2 = \u001b[39m\u001b[39m{\u001b[39;00mr2_series_value\u001b[39m:\u001b[39;00m\u001b[39m.0f\u001b[39m\u001b[39m}\u001b[39;00m\u001b[39m \u001b[39m\u001b[39m\\\u001b[39m\u001b[39mOmega $$ $$V_ref= \u001b[39m\u001b[39m{\u001b[39;00mvref\u001b[39m:\u001b[39;00m\u001b[39m.3f\u001b[39m\u001b[39m}\u001b[39;00m\u001b[39mV, I=\u001b[39m\u001b[39m{\u001b[39;00m(vx_chosen\u001b[39m/\u001b[39m(r1_series_value\u001b[39m+\u001b[39mr2_series_value))\u001b[39m:\u001b[39;00m\u001b[39m.9f\u001b[39m\u001b[39m}\u001b[39;00m\u001b[39mA$$\u001b[39m\u001b[39m\"\u001b[39m)\n",
      "\u001b[0;31mValueError\u001b[0m: Unknown format code 'f' for object of type 'str'"
     ]
    }
   ],
   "source": [
    "md(f\"### Calculated values for $$V_x={vx_chosen}V$$ $$R_1 = {r1_series_value:.0f} \\Omega $$ $$R_2 = {r2_series_value:.0f} \\Omega $$ $$V_ref= {vref:.3f}V, I={(vx_chosen/(r1_series_value+r2_series_value)):.9f}A$$\")"
   ]
  },
  {
   "cell_type": "code",
   "execution_count": null,
   "metadata": {},
   "outputs": [
    {
     "data": {
      "text/markdown": [
       "## Proceed to Simulation for [Case3](./04-simulation-case3.ipynb)"
      ],
      "text/plain": [
       "<IPython.core.display.Markdown object>"
      ]
     },
     "execution_count": 28,
     "metadata": {},
     "output_type": "execute_result"
    }
   ],
   "source": [
    "md(f\"## Proceed to Simulation for [Case{case}](./04-simulation-case{case}.ipynb)\")"
   ]
  },
  {
   "cell_type": "code",
   "execution_count": null,
   "metadata": {},
   "outputs": [
    {
     "name": "stdout",
     "output_type": "stream",
     "text": [
      "Stored 'r1_series_value' (float)\n",
      "Stored 'r2_series_value' (float)\n",
      "Stored 'vref' (Float)\n"
     ]
    }
   ],
   "source": [
    "# Keep this vales as we need them in the Notebooks for the different cases\n",
    "%store r1_series_value\n",
    "%store r2_series_value\n",
    "%store vref"
   ]
  }
 ],
 "metadata": {
  "kernelspec": {
   "display_name": "Python 3 (ipykernel)",
   "language": "python",
   "name": "python3"
  },
  "language_info": {
   "codemirror_mode": {
    "name": "ipython",
    "version": 3
   },
   "file_extension": ".py",
   "mimetype": "text/x-python",
   "name": "python",
   "nbconvert_exporter": "python",
   "pygments_lexer": "ipython3",
   "version": "3.9.1"
  },
  "vscode": {
   "interpreter": {
    "hash": "73618078aa7355328b5767d0aabf7a6b84d22841c1d24f391d059f02c5361fef"
   }
  },
  "widgets": {
   "application/vnd.jupyter.widget-state+json": {
    "state": {},
    "version_major": 2,
    "version_minor": 0
   }
  }
 },
 "nbformat": 4,
 "nbformat_minor": 4
}
