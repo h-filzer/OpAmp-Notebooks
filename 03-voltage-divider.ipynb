{
 "cells": [
  {
   "cell_type": "markdown",
   "metadata": {},
   "source": [
    "## With known $V_ref$ we can design a source around this value using a voltage divider\n",
    "\n",
    "$$\n",
    "\\dfrac{V_{ref}}{V_{x}}=\\dfrac{R_2}{R1+R_2}\n",
    "$$\n"
   ]
  },
  {
   "cell_type": "code",
   "execution_count": 61,
   "metadata": {},
   "outputs": [],
   "source": [
    "from ESeries import ESeries\n",
    "#Define the E_Series to chose the Resistors from \n",
    "series_range= ESeries.Series.E24"
   ]
  },
  {
   "cell_type": "code",
   "execution_count": 62,
   "metadata": {
    "tags": []
   },
   "outputs": [],
   "source": [
    "%matplotlib inline\n",
    "# %pip install sympy numpy pyspice import-ipynb\n",
    "import dill\n",
    "#dill.load_session(session_file_name)\n",
    "import sympy as sp\n",
    "from sympy import solve, symbols, nsimplify, Rational, latex, Eq, solveset, S, linsolve, Matrix, N\n",
    "from IPython.display import Math, display\n",
    "\n",
    "# Importing packages\n",
    "import matplotlib.pyplot as plt\n",
    "import numpy as np\n",
    "\n",
    "from operator import itemgetter\n",
    "from IPython.display import Markdown as md\n",
    "\n",
    "sp.init_printing()\n",
    "series= ESeries()\n",
    "\n",
    "\n"
   ]
  },
  {
   "cell_type": "code",
   "execution_count": 63,
   "metadata": {
    "tags": []
   },
   "outputs": [
    {
     "data": {
      "image/png": "[encoded data removed]",
      "text/latex": [
       "$\\displaystyle \\left( 10, \\  \\frac{1015}{397}, \\  2\\right)$"
      ],
      "text/plain": [
       "⎛    1015   ⎞\n",
       "⎜10, ────, 2⎟\n",
       "⎝    397    ⎠"
      ]
     },
     "execution_count": 63,
     "metadata": {},
     "output_type": "execute_result"
    }
   ],
   "source": [
    "%store -r vref\n",
    "%store -r vx_chosen\n",
    "%store -r case\n",
    "vref = vref\n",
    "case=case\n",
    "vx_chosen = vx_chosen\n",
    "vx_chosen, vref, case\n"
   ]
  },
  {
   "cell_type": "code",
   "execution_count": 64,
   "metadata": {},
   "outputs": [
    {
     "data": {
      "image/png": "[encoded data removed]",
      "text/latex": [
       "$\\displaystyle \\frac{1015}{397 V_{x}} = \\frac{R_{2}}{R_{1} + R_{2}}$"
      ],
      "text/plain": [
       " 1015       R₂  \n",
       "────── = ───────\n",
       "397⋅Vₓ   R₁ + R₂"
      ]
     },
     "execution_count": 64,
     "metadata": {},
     "output_type": "execute_result"
    }
   ],
   "source": [
    "vx, r1, r2 = symbols('V_x R_1 R_2', real=True)\n",
    "divider_eq=Eq(vref/vx, r2/(r1+r2))\n",
    "divider_eq\n"
   ]
  },
  {
   "cell_type": "markdown",
   "metadata": {},
   "source": [
    "### Resolve matching series Resistors for given ratio of $\\dfrac{V_{out}}{V_{in}}$"
   ]
  },
  {
   "cell_type": "code",
   "execution_count": 65,
   "metadata": {},
   "outputs": [
    {
     "data": {
      "image/png": "[encoded data removed]",
      "text/latex": [
       "$\\displaystyle 2.557$"
      ],
      "text/plain": [
       "2.557"
      ]
     },
     "execution_count": 65,
     "metadata": {},
     "output_type": "execute_result"
    }
   ],
   "source": [
    "vref.evalf(4)"
   ]
  },
  {
   "cell_type": "code",
   "execution_count": 66,
   "metadata": {},
   "outputs": [
    {
     "data": {
      "image/png": "[encoded data removed]",
      "text/latex": [
       "$\\displaystyle \\left( 180000.0, \\  62000.0, \\  0.000498347107438069\\right)$"
      ],
      "text/plain": [
       "(180000.0, 62000.0, 0.000498347107438069)"
      ]
     },
     "execution_count": 66,
     "metadata": {},
     "output_type": "execute_result"
    }
   ],
   "source": [
    "voltage_divider_ratio=series.voltage_divider(vin=float(vx_chosen),vout=round(float(vref),3),series=series_range)\n",
    "r1_series_value=voltage_divider_ratio['r1']\n",
    "r2_series_value=voltage_divider_ratio['r2']\n",
    "delta_ratio=voltage_divider_ratio['ratio_difference']\n",
    "(r1_series_value,r2_series_value,delta_ratio)"
   ]
  },
  {
   "cell_type": "markdown",
   "metadata": {},
   "source": [
    "### Calculate $V_{ref}$ with series resistors  "
   ]
  },
  {
   "cell_type": "code",
   "execution_count": 67,
   "metadata": {},
   "outputs": [
    {
     "data": {
      "image/png": "[encoded data removed]",
      "text/latex": [
       "$\\displaystyle 2.56198347107438$"
      ],
      "text/plain": [
       "2.56198347107438"
      ]
     },
     "execution_count": 67,
     "metadata": {},
     "output_type": "execute_result"
    }
   ],
   "source": [
    "#Calutate Vref wit eseries Values\n",
    "vref_solved=solve(divider_eq,[vref])[0]\n",
    "vref_calc=vref_solved.subs(vx,vx_chosen).subs(r2,r2_series_value).subs(r1,r1_series_value)\n",
    "vref_calc"
   ]
  },
  {
   "cell_type": "code",
   "execution_count": 68,
   "metadata": {},
   "outputs": [
    {
     "data": {
      "text/markdown": [
       "### Calculated values for $$V_x=10V$$ $$R_1 = 180000 \\Omega $$ $$R_2 = 62000 \\Omega $$ $$V_ref= 2.5620V, I=0.000041322A$$"
      ],
      "text/plain": [
       "<IPython.core.display.Markdown object>"
      ]
     },
     "execution_count": 68,
     "metadata": {},
     "output_type": "execute_result"
    }
   ],
   "source": [
    "md(f\"### Calculated values for $$V_x={vx_chosen}V$$ $$R_1 = {r1_series_value:.0f} \\Omega $$ $$R_2 = {r2_series_value:.0f} \\Omega $$ $$V_ref= {vref_calc:.4f}V, I={(vx_chosen/(r1_series_value+r2_series_value)):.9f}A$$\")"
   ]
  },
  {
   "cell_type": "code",
   "execution_count": 69,
   "metadata": {},
   "outputs": [
    {
     "data": {
      "text/markdown": [
       "## Proceed to Simulation for [Case2](./04-simulation-case2.ipynb)"
      ],
      "text/plain": [
       "<IPython.core.display.Markdown object>"
      ]
     },
     "execution_count": 69,
     "metadata": {},
     "output_type": "execute_result"
    }
   ],
   "source": [
    "md(f\"## Proceed to Simulation for [Case{case}](./04-simulation-case{case}.ipynb)\")"
   ]
  },
  {
   "cell_type": "code",
   "execution_count": 70,
   "metadata": {},
   "outputs": [
    {
     "name": "stdout",
     "output_type": "stream",
     "text": [
      "Stored 'r1_series_value' (Float)\n",
      "Stored 'r2_series_value' (Float)\n",
      "Stored 'vref' (Rational)\n"
     ]
    }
   ],
   "source": [
    "# Keep this vales as we need them in the Notebooks for the different cases\n",
    "%store r1_series_value\n",
    "%store r2_series_value\n",
    "%store vref"
   ]
  }
 ],
 "metadata": {
  "kernelspec": {
   "display_name": "Python 3 (ipykernel)",
   "language": "python",
   "name": "python3"
  },
  "language_info": {
   "codemirror_mode": {
    "name": "ipython",
    "version": 3
   },
   "file_extension": ".py",
   "mimetype": "text/x-python",
   "name": "python",
   "nbconvert_exporter": "python",
   "pygments_lexer": "ipython3",
   "version": "3.9.1"
  },
  "vscode": {
   "interpreter": {
    "hash": "73618078aa7355328b5767d0aabf7a6b84d22841c1d24f391d059f02c5361fef"
   }
  },
  "widgets": {
   "application/vnd.jupyter.widget-state+json": {
    "state": {},
    "version_major": 2,
    "version_minor": 0
   }
  }
 },
 "nbformat": 4,
 "nbformat_minor": 4
}
