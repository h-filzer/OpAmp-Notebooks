{
 "cells": [
  {
   "cell_type": "code",
   "execution_count": 189,
   "metadata": {},
   "outputs": [],
   "source": [
    "session_file_name='tri-adaption.db'"
   ]
  },
  {
   "cell_type": "markdown",
   "metadata": {},
   "source": [
    "## CASE 2: Non-Inverting with Negative Offset, b is negative so applied to V-\n",
    "\n",
    "(We can add $V_{inv}$ as it is negative) \n",
    "\n",
    "Having $V_{ref}$ shortened to $GND$ we have a _Noninverting Amplifier_\n",
    "\n",
    "$$\n",
    "V_{outn}=V_{in}\\dfrac{(R_f+R_g)}{R_g}\n",
    "$$\n",
    "\n",
    "whith $m$\n",
    "\n",
    "$$\n",
    "m=\\dfrac{(R_f+R_g)}{R_g}\n",
    "$$\n",
    "\n",
    "Having $V_{in}$ shortened to $GND$ we have a _Inverting Amplifier_\n",
    "\n",
    "$$\n",
    "V_{outi} = V_{ref} \\dfrac{-R_f} {R_g}\n",
    "$$\n",
    "\n",
    "with $b$\n",
    "\n",
    "$$\n",
    "b=V_{ref}\\dfrac{-R_f}{R_g}\n",
    "$$\n",
    "\n",
    "\n",
    "The sum is $V_{out}$\n",
    "\n",
    "$$\n",
    "V_{out}=V_{outn}+V_{outi}\n",
    "$$\n",
    "\n",
    "We assume that $V_{ref}$ is the voltage needed to provide the given output. To generate $V_{ref}$ from $V_{cc}$ or other voltage source see below. \n",
    "\n",
    "<!-- With $V_{ninv}$ having $V_{ref}$ shortened to ground $GND$ so that we have a Noninverting Amplifier which represents $m$\n",
    "\n",
    "$$\n",
    "V_{ninv}=V_{in}\\dfrac{(R_f+R_g+R_{th})}{(R_g+R_{th})}\n",
    "$$\n",
    "\n",
    "With $V_{ninv}$ having $V_{in}$ shortened to ground $GND$ so that we have a Inverting Amplifier which represents |$b$|\n",
    "\n",
    "$$\n",
    "V_{inv}=V_{th}\\dfrac{-R_f}{(R_g+R_{th})}\n",
    "$$\n",
    "\n",
    "With $R_{th}$ representing the Thevenin equivalent of $R_1$ and $R_2$\n",
    "\n",
    "$$\n",
    "R_{th}=R_1\\parallel R_2\n",
    "$$\n",
    "\n",
    "With $V_{th}$ representing the Thevenin equivalent of $V_{R2}$\n",
    "\n",
    "$$\n",
    "V_{th}=\\dfrac{R_2*V_{ref}}{R_1+R_2}\n",
    "$$ -->\n",
    "\n",
    "Assumptions:\n",
    "Noninverting OpAmp\n",
    "Gain: A=Vout/Vin\n",
    "V+=V- always\n",
    "\n",
    "With V+=V- we have V-=Vin as Vin is at V+ pin\n",
    "\n",
    "<!--\n",
    "At the resistor divider we have Rg/(Rg+Rf)=Vin/Vout which is Vout/Vin=(Rg+Rf)/Rg which is Vout/Vin=1+Rf/Rg => That is Vout=Vin*(1+Rf/Rg) which is m.\n",
    "Now we have to subtract b\n",
    "Lets ground V+, we have a inverting Amp now!\n",
    "Vout/Vref=-Rf/Rg\n",
    "\n",
    "So we add all the Outputs together Vout=Vout(Noninverting)+Vout(Inverting)\n",
    "\n",
    "\n",
    "https://www.circuitlab.com/editor/#?id=n665q67teq8n\n",
    "\n",
    "Rth = R4 ∥ R6 = R4×R6 ÷ (R4+R6)\n",
    "Vth = V1 × R6 ÷ (R4+R6) -->\n",
    "\n",
    "<div>\n",
    "<img src=\"images/case2.png\" width=\"500\"/>\n",
    "</div>\n"
   ]
  },
  {
   "cell_type": "code",
   "execution_count": 190,
   "metadata": {},
   "outputs": [],
   "source": [
    "%matplotlib inline\n",
    "#%pip install sympy numpy pyspice dill\n",
    "import dill\n",
    "#dill.load_session(session_file_name)\n",
    "import sympy as sp\n",
    "from sympy import solve, symbols, nsimplify, Rational, latex, Eq, solveset, S, linsolve, Matrix, N\n",
    "from IPython.display import Math, display\n",
    "\n",
    "# Importing packages\n",
    "import matplotlib.pyplot as plt\n",
    "import numpy as np\n",
    "\n",
    "from operator import itemgetter\n",
    "from IPython.display import Markdown as md\n",
    "\n",
    "from ESeries import ESeries\n",
    "\n",
    "sp.init_printing()\n",
    "series= ESeries(ESeries.Series.E96)\n"
   ]
  },
  {
   "cell_type": "code",
   "execution_count": 191,
   "metadata": {
    "tags": [
     "parameters"
    ]
   },
   "outputs": [
    {
     "data": {
      "image/png": "[encoded data removed]",
      "text/latex": [
       "$\\displaystyle \\left( \\frac{3}{2}, \\  -5, \\  0, \\  -5, \\  \\frac{20}{3}, \\  5\\right)$"
      ],
      "text/plain": [
       "(3/2, -5, 0, -5, 20/3, 5)"
      ]
     },
     "execution_count": 191,
     "metadata": {},
     "output_type": "execute_result"
    }
   ],
   "source": [
    "%store -r m\n",
    "%store -r b\n",
    "%store -r x1\n",
    "%store -r y1\n",
    "%store -r x2\n",
    "%store -r y2\n",
    "m=m\n",
    "b=b\n",
    "x1=x1\n",
    "y1=y1\n",
    "x2=x2\n",
    "y2=y2\n",
    "\n",
    "#chosen Feedback resistor\n",
    "rf_chosen=S(series.preferred_value(91e3)[0])\n",
    "#rf=S(series.preferred_value(30e3)[0])\n",
    "\n",
    "#chosen Vx, the voltage to generate Vref\n",
    "vx_chosen=10\n",
    "m,b,x1,y1,x2,y2\n"
   ]
  },
  {
   "cell_type": "code",
   "execution_count": 192,
   "metadata": {},
   "outputs": [],
   "source": [
    "rf,rg, vref= symbols('R_f R_g V_ref')"
   ]
  },
  {
   "cell_type": "markdown",
   "metadata": {},
   "source": [
    "Solve for $R_g$ for given slope $m$\n",
    "$$\n",
    "m=\\dfrac{R_f+R_g}{R_g}\n",
    "$$"
   ]
  },
  {
   "cell_type": "code",
   "execution_count": 193,
   "metadata": {},
   "outputs": [
    {
     "data": {
      "image/png": "[encoded data removed]",
      "text/latex": [
       "$\\displaystyle 2 R_{f}$"
      ],
      "text/plain": [
       "2⋅R_f"
      ]
     },
     "execution_count": 193,
     "metadata": {},
     "output_type": "execute_result"
    }
   ],
   "source": [
    "#Solve for Rg in respect to m\n",
    "rg_eq=Eq(m,(rf+rg)/rg)\n",
    "rg=solve(rg_eq,[rg])[0]\n",
    "rg"
   ]
  },
  {
   "cell_type": "markdown",
   "metadata": {},
   "source": [
    "Supply a chosen value for $R_f$ to get $R_g$"
   ]
  },
  {
   "cell_type": "code",
   "execution_count": 194,
   "metadata": {},
   "outputs": [
    {
     "data": {
      "image/png": "[encoded data removed]",
      "text/latex": [
       "$\\displaystyle 1.82 \\cdot 10^{5}$"
      ],
      "text/plain": [
       "1.82e+5"
      ]
     },
     "execution_count": 194,
     "metadata": {},
     "output_type": "execute_result"
    }
   ],
   "source": [
    "rg=rg.subs(rf,rf_chosen)\n",
    "rg"
   ]
  },
  {
   "cell_type": "code",
   "execution_count": 195,
   "metadata": {},
   "outputs": [
    {
     "data": {
      "text/markdown": [
       "### E-Series Resistor value for $R_g = 182000.0 \\Omega , Error = 0.00 \\%$"
      ],
      "text/plain": [
       "<IPython.core.display.Markdown object>"
      ]
     },
     "execution_count": 195,
     "metadata": {},
     "output_type": "execute_result"
    }
   ],
   "source": [
    "rg,error=S(series.preferred_value(rg))\n",
    "md(f\"### E-Series Resistor value for $R_g = {rg:.1f} \\Omega , Error = {error:.2f} \\%$\")"
   ]
  },
  {
   "cell_type": "markdown",
   "metadata": {},
   "source": [
    "Solve for $V_{ref}$ for a given intercept $b$\n",
    "$$\n",
    "b=V_{ref}* \\dfrac{-R_f}{R_g}\n",
    "$$"
   ]
  },
  {
   "cell_type": "code",
   "execution_count": 196,
   "metadata": {},
   "outputs": [
    {
     "data": {
      "image/png": "[encoded data removed]",
      "text/latex": [
       "$\\displaystyle 10.0288081355393$"
      ],
      "text/plain": [
       "10.0288081355393"
      ]
     },
     "execution_count": 196,
     "metadata": {},
     "output_type": "execute_result"
    }
   ],
   "source": [
    "vref=solve(Eq(b, vref*(-rf/rg)),[vref])[0]\n",
    "vref=vref.subs(rf,rf_chosen)\n",
    "vref"
   ]
  },
  {
   "cell_type": "code",
   "execution_count": 197,
   "metadata": {},
   "outputs": [
    {
     "data": {
      "text/markdown": [
       "### $R_f = 90900\\Omega , R_g = 182000\\Omega , V_ref= 10.0V$"
      ],
      "text/plain": [
       "<IPython.core.display.Markdown object>"
      ]
     },
     "execution_count": 197,
     "metadata": {},
     "output_type": "execute_result"
    }
   ],
   "source": [
    "md(f\"### $R_f = {rf_chosen:.0f}\\Omega , R_g = {rg:.0f}\\Omega , V_ref= {vref:.3}V$\")"
   ]
  },
  {
   "cell_type": "code",
   "execution_count": 198,
   "metadata": {},
   "outputs": [
    {
     "data": {
      "image/png": "[encoded data removed]",
      "text/latex": [
       "$\\displaystyle \\left( 0, \\  -5.00809571962319\\right)$"
      ],
      "text/plain": [
       "(0, -5.00809571962319)"
      ]
     },
     "execution_count": 198,
     "metadata": {},
     "output_type": "execute_result"
    }
   ],
   "source": [
    "#verification\n",
    "vout1=x1*(rf+rg)/rg+vref*-rf/rg\n",
    "vout1=vout1.subs(rf,rf_chosen)\n",
    "(x1,vout1)"
   ]
  },
  {
   "cell_type": "code",
   "execution_count": 199,
   "metadata": {},
   "outputs": [
    {
     "data": {
      "image/png": "[encoded data removed]",
      "text/latex": [
       "$\\displaystyle \\left( \\frac{20}{3}, \\  4.98717262525597\\right)$"
      ],
      "text/plain": [
       "(20/3, 4.98717262525597)"
      ]
     },
     "execution_count": 199,
     "metadata": {},
     "output_type": "execute_result"
    }
   ],
   "source": [
    "#verification\n",
    "vout2=x2*(rf+rg)/rg+vref*-rf/rg\n",
    "vout2=vout2.subs(rf,rf_chosen)\n",
    "(x2,vout2)"
   ]
  },
  {
   "cell_type": "markdown",
   "metadata": {},
   "source": [
    "As we have $V_{ref}$ applied to the negative input of the opamp the voltage divider will be loaded through $I_{rg}$ and $I_{rf}$. To reduce the Error, we use a buffered voltage divider.\n",
    "\n",
    "<div>\n",
    "<img src=\"images/buffered-voltage-divider.png\" width=\"500\"/>\n",
    "</div>"
   ]
  },
  {
   "cell_type": "code",
   "execution_count": 200,
   "metadata": {},
   "outputs": [
    {
     "data": {
      "text/markdown": [
       "## Proceed to [Voltage Divider](./03-voltage-divider.ipynb)"
      ],
      "text/plain": [
       "<IPython.core.display.Markdown object>"
      ]
     },
     "execution_count": 200,
     "metadata": {},
     "output_type": "execute_result"
    }
   ],
   "source": [
    "md(f\"## Proceed to [Voltage Divider](./03-voltage-divider.ipynb)\")"
   ]
  },
  {
   "cell_type": "code",
   "execution_count": 201,
   "metadata": {},
   "outputs": [
    {
     "name": "stdout",
     "output_type": "stream",
     "text": [
      "Stored 'rf_chosen' (Float)\n",
      "Stored 'vx_chosen' (int)\n",
      "Stored 'vref' (Float)\n",
      "Stored 'rg' (Float)\n"
     ]
    }
   ],
   "source": [
    "# Keep this vales as we need them in the Notebooks for the different cases\n",
    "%store rf_chosen\n",
    "%store vx_chosen\n",
    "%store vref\n",
    "%store rg\n",
    "\n"
   ]
  }
 ],
 "metadata": {
  "kernelspec": {
   "display_name": "Python 3 (ipykernel)",
   "language": "python",
   "name": "python3"
  },
  "language_info": {
   "codemirror_mode": {
    "name": "ipython",
    "version": 3
   },
   "file_extension": ".py",
   "mimetype": "text/x-python",
   "name": "python",
   "nbconvert_exporter": "python",
   "pygments_lexer": "ipython3",
   "version": "3.9.1"
  },
  "vscode": {
   "interpreter": {
    "hash": "73618078aa7355328b5767d0aabf7a6b84d22841c1d24f391d059f02c5361fef"
   }
  },
  "widgets": {
   "application/vnd.jupyter.widget-state+json": {
    "state": {},
    "version_major": 2,
    "version_minor": 0
   }
  }
 },
 "nbformat": 4,
 "nbformat_minor": 4
}
