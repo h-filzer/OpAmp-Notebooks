{
 "cells": [
  {
   "cell_type": "markdown",
   "metadata": {},
   "source": [
    "## CASE 8: Non-Inverting Attenuation / Buffer with Negative Offset b is negative so applied to V-\n",
    "<div>\n",
    "<img src=\"http://earmark.net/gesr/opamp/case8_sch.gif\" width=\"500\"/>\n",
    "</div>\n",
    "\n",
    "**To keep it simple we ignore the voltage divider $R_1$ and $R_2$ for now and assume that the input Voltage is the required voltage to get the desired output. Therefore we name the Voltage $V_{in}'$**\n",
    "\n",
    "Having $V_{ref}$ shortened to $GND$ we have a _Noninverting Amplifier_\n",
    "\n",
    "$$\n",
    "\\dfrac{V_{outNin}}{V_{in}'} = \\dfrac{R_f+R_g} {R_g}\n",
    "$$\n",
    "\n",
    "$$\n",
    "V_{outNin} = V_{in}'\\dfrac{R_f+R_g} {R_g}\n",
    "$$\n",
    "\n",
    "We know that the gain of this stage should be \n",
    "\n",
    "$$\n",
    "m=\\dfrac{R_f+R_g} {R_g}\n",
    "$$\n",
    "\n",
    "As $b$ is a negative offset it has to be applied to the Negative input where it is derived from $V_{ref}$ and therefore an inverting configuration. We assume that $$b=V_{outInv}$$\n",
    "\n",
    "Having $V_{in}'$ shortened to $GND$ we have a _Inverting Amplifier_ \n",
    "\n",
    "$$\n",
    "\\dfrac{V_{outInv}}{V_{ref}}=\\dfrac{-R_f}{R_g}\n",
    "$$\n",
    "\n",
    "$$\n",
    "V_{outInv}=V_{ref}\\dfrac{-R_f}{R_g}\n",
    "$$\n",
    "\n",
    "\n",
    "\n",
    "The sum of all is $V_{out}$\n",
    "\n",
    "$$\n",
    "V_{out}=V_{outNin}+V_{outIin}\n",
    "$$\n",
    "\n",
    "We assume that $V_{in}'$ is the voltage needed to provide the given output. To generate $V_{in}'$ we supply a voltage divider in a alter step. \n",
    "\n",
    "<!-- With $V_{ninv}$ having $V_{ref}$ shortened to ground $GND$ so that we have a Noninverting Amplifier which represents $m$\n",
    "\n",
    "$$\n",
    "V_{ninv}=V_{in}\\dfrac{(R_f+R_g+R_{th})}{(R_g+R_{th})}\n",
    "$$\n",
    "\n",
    "With $V_{ninv}$ having $V_{in}$ shortened to ground $GND$ so that we have a Inverting Amplifier which represents |$b$|\n",
    "\n",
    "$$\n",
    "V_{inv}=V_{th}\\dfrac{-R_f}{(R_g+R_{th})}\n",
    "$$\n",
    "\n",
    "With $R_{th}$ representing the Thevenin equivalent of $R_1$ and $R_2$\n",
    "\n",
    "$$\n",
    "R_{th}=R_1\\parallel R_2\n",
    "$$\n",
    "\n",
    "With $V_{th}$ representing the Thevenin equivalent of $V_{R2}$\n",
    "\n",
    "$$\n",
    "V_{th}=\\dfrac{R_2*V_{ref}}{R_1+R_2}\n",
    "$$ -->\n",
    "\n",
    "Assumptions:\n",
    "Noninverting OpAmp\n",
    "Gain: A=Vout/Vin\n",
    "V+=V- always\n",
    "\n",
    "With V+=V- we have V-=Vin as Vin is at V+ pin\n",
    "\n",
    "<!--\n",
    "At the resistor divider we have Rg/(Rg+Rf)=Vin/Vout which is Vout/Vin=(Rg+Rf)/Rg which is Vout/Vin=1+Rf/Rg => That is Vout=Vin*(1+Rf/Rg) which is m.\n",
    "Now we have to subtract b\n",
    "Lets ground V+, we have a inverting Amp now!\n",
    "Vout/Vref=-Rf/Rg\n",
    "\n",
    "So we add all the Outputs together Vout=Vout(Noninverting)+Vout(Inverting)\n",
    "\n",
    "\n",
    "https://www.circuitlab.com/editor/#?id=n665q67teq8n\n",
    "\n",
    "Rth = R4 ∥ R6 = R4×R6 ÷ (R4+R6)\n",
    "Vth = V1 × R6 ÷ (R4+R6) -->\n",
    "\n",
    "\n"
   ]
  },
  {
   "cell_type": "code",
   "execution_count": 1,
   "metadata": {},
   "outputs": [],
   "source": [
    "from ESeries import ESeries\n",
    "#Define the E_Series to chose the Resistors from \n",
    "series_range= ESeries.Series.E24"
   ]
  },
  {
   "cell_type": "code",
   "execution_count": 2,
   "metadata": {},
   "outputs": [],
   "source": [
    "%matplotlib inline\n",
    "#%pip install sympy numpy pyspice dill\n",
    "import dill\n",
    "#dill.load_session(session_file_name)\n",
    "import sympy as sp\n",
    "from sympy import solve, symbols, Eq, S\n",
    "from IPython.display import Math, display\n",
    "\n",
    "# Importing packages\n",
    "import matplotlib.pyplot as plt\n",
    "import numpy as np\n",
    "\n",
    "from operator import itemgetter\n",
    "from IPython.display import Markdown as md\n",
    "\n",
    "from ESeries import ESeries\n",
    "\n",
    "sp.init_printing()\n",
    "series= ESeries()\n"
   ]
  },
  {
   "cell_type": "code",
   "execution_count": 3,
   "metadata": {
    "tags": [
     "parameters"
    ]
   },
   "outputs": [
    {
     "data": {
      "image/png": "[encoded data removed]",
      "text/latex": [
       "$\\displaystyle \\left( \\frac{50}{63}, \\  - \\frac{95}{21}, \\  - \\frac{3}{5}, \\  -5, \\  12, \\  5\\right)$"
      ],
      "text/plain": [
       "⎛50  -95                  ⎞\n",
       "⎜──, ────, -3/5, -5, 12, 5⎟\n",
       "⎝63   21                  ⎠"
      ]
     },
     "execution_count": 3,
     "metadata": {},
     "output_type": "execute_result"
    }
   ],
   "source": [
    "%store -r m\n",
    "%store -r b\n",
    "%store -r x1\n",
    "%store -r y1\n",
    "%store -r x2\n",
    "%store -r y2\n",
    "%store -r Vx\n",
    "m=m\n",
    "b=b\n",
    "x1=x1\n",
    "y1=y1\n",
    "x2=x2\n",
    "y2=y2\n",
    "\n",
    "#set  Vref to Vx\n",
    "v_ref=Vx\n",
    "m,b,x1,y1,x2,y2\n"
   ]
  },
  {
   "cell_type": "markdown",
   "metadata": {},
   "source": [
    "## Inverting part\n",
    "\n",
    "The ratio of $\\dfrac{b}{V_{ref}}$ is equal to $\\dfrac{-R_f}{R_g}$\n",
    "$$\n",
    "\\dfrac{b}{V_{ref}}=\\dfrac{-R_f}{R_g}\n",
    "$$\n",
    "\n",
    "$b$ and $V_rf$ are known, solve for $R_g$ for a given $R_f$"
   ]
  },
  {
   "cell_type": "code",
   "execution_count": 4,
   "metadata": {},
   "outputs": [
    {
     "name": "stdout",
     "output_type": "stream",
     "text": [
      "[{'r1': 180000.000000000, 'r2': 68000.0000000000, 'ratio_difference': 0.000793650793650791}, {'r1': 200000.000000000, 'r2': 75000.0000000000, 'ratio_difference': 0.00198412698412698}, {'r1': 240000.000000000, 'r2': 91000.0000000000, 'ratio_difference': 0.00218253968253967}, {'r1': 150000.000000000, 'r2': 56000.0000000000, 'ratio_difference': 0.00365079365079368}, {'r1': 220000.000000000, 'r2': 82000.0000000000, 'ratio_difference': 0.00425685425685429}]\n"
     ]
    },
    {
     "data": {
      "image/png": "[encoded data removed]",
      "text/latex": [
       "$\\displaystyle \\left( 180000.0, \\  68000.0, \\  0.000793650793650791\\right)$"
      ],
      "text/plain": [
       "(180000.0, 68000.0, 0.000793650793650791)"
      ]
     },
     "execution_count": 4,
     "metadata": {},
     "output_type": "execute_result"
    }
   ],
   "source": [
    "#we use inverted m and normal voltage divider rule\n",
    "voltage_divider_ratio=series.inverting_gain_resistors(gain=(float(b/v_ref)),series=series_range,rf_min=10e3)\n",
    "rf_series_value=voltage_divider_ratio['rf']\n",
    "rg_series_value=voltage_divider_ratio['rg']\n",
    "delta_ratio=voltage_divider_ratio['ratio_difference']\n",
    "(rg_series_value,rf_series_value,delta_ratio)"
   ]
  },
  {
   "cell_type": "code",
   "execution_count": 5,
   "metadata": {},
   "outputs": [
    {
     "data": {
      "text/markdown": [
       "### E-Series 24 Resistor value for $R_g = 180000.0 \\Omega$"
      ],
      "text/plain": [
       "<IPython.core.display.Markdown object>"
      ]
     },
     "execution_count": 5,
     "metadata": {},
     "output_type": "execute_result"
    }
   ],
   "source": [
    "md(f\"### E-Series {series_range.value} Resistor value for $R_g = {rg_series_value:.1f} \\Omega$\")"
   ]
  },
  {
   "cell_type": "code",
   "execution_count": 6,
   "metadata": {},
   "outputs": [
    {
     "data": {
      "text/markdown": [
       "### E-Series 24 Resistor value for $R_f = 68000.0 \\Omega$"
      ],
      "text/plain": [
       "<IPython.core.display.Markdown object>"
      ]
     },
     "execution_count": 6,
     "metadata": {},
     "output_type": "execute_result"
    }
   ],
   "source": [
    "md(f\"### E-Series {series_range.value} Resistor value for $R_f = {rf_series_value:.1f} \\Omega$\")"
   ]
  },
  {
   "cell_type": "markdown",
   "metadata": {},
   "source": [
    "Verify intercept $b$ with calculated values for $R_f$ and $R_g$\n",
    "$$\n",
    "b=V_{ref}* \\dfrac{-R_f}{R_g}\n",
    "$$"
   ]
  },
  {
   "cell_type": "code",
   "execution_count": 7,
   "metadata": {},
   "outputs": [
    {
     "data": {
      "image/png": "[encoded data removed]",
      "text/latex": [
       "$\\displaystyle \\left( -4.53333333333333, \\  -4.52380952380952\\right)$"
      ],
      "text/plain": [
       "(-4.53333333333333, -4.523809523809524)"
      ]
     },
     "execution_count": 7,
     "metadata": {},
     "output_type": "execute_result"
    }
   ],
   "source": [
    "b_calculated=v_ref*-rf_series_value/rg_series_value\n",
    "b_calculated,float(b)"
   ]
  },
  {
   "cell_type": "markdown",
   "metadata": {},
   "source": [
    "## Sum of intercept and slope\n",
    "\n",
    "$$\n",
    "V_{out} = V_{in}'\\dfrac{R_f+R_g} {R_g}+V_{ref}\\dfrac{-R_f}{R_g}\n",
    "$$\n",
    "\n",
    "For a given $V_{out}$ we want to know the required $V_{in}'$ so solve for $V_{in}'$. We choose $y2$ as expected $V_{out}$\n",
    "\n"
   ]
  },
  {
   "cell_type": "code",
   "execution_count": 8,
   "metadata": {},
   "outputs": [
    {
     "data": {
      "image/png": "[encoded data removed]",
      "text/latex": [
       "$\\displaystyle 5 = 1.37777777777778 V'_{in} - 4.53333333333333$"
      ],
      "text/plain": [
       "5 = 1.37777777777778⋅V'ᵢₙ - 4.53333333333333"
      ]
     },
     "execution_count": 8,
     "metadata": {},
     "output_type": "execute_result"
    }
   ],
   "source": [
    "v_in_dash= symbols(\"V'_in\")\n",
    "vout_eq=Eq(y2, v_in_dash*(rf_series_value+rg_series_value)/rg_series_value+v_ref*-rf_series_value/rg_series_value)\n",
    "vout_eq\n"
   ]
  },
  {
   "cell_type": "code",
   "execution_count": 9,
   "metadata": {},
   "outputs": [
    {
     "data": {
      "image/png": "[encoded data removed]",
      "text/latex": [
       "$\\displaystyle 6.91935483870968$"
      ],
      "text/plain": [
       "6.91935483870968"
      ]
     },
     "execution_count": 9,
     "metadata": {},
     "output_type": "execute_result"
    }
   ],
   "source": [
    "v_in_solution=solve(vout_eq, [v_in_dash])[0]\n",
    "v_in_solution"
   ]
  },
  {
   "cell_type": "code",
   "execution_count": 10,
   "metadata": {},
   "outputs": [
    {
     "data": {
      "image/png": "[encoded data removed]",
      "text/latex": [
       "$\\displaystyle 12.0$"
      ],
      "text/plain": [
       "12.0000000000000"
      ]
     },
     "execution_count": 10,
     "metadata": {},
     "output_type": "execute_result"
    }
   ],
   "source": [
    "#verification\n",
    "vout_eq.rhs.subs(v_in_dash,x2)"
   ]
  },
  {
   "cell_type": "markdown",
   "metadata": {},
   "source": [
    "Now we need a voltage divider with the given ratio:\n",
    "\n",
    "$$\n",
    "\\dfrac{V_{in}'}{V_{out}}=\\dfrac{R_1+R_2}{R_2}\n",
    "$$\n"
   ]
  },
  {
   "cell_type": "code",
   "execution_count": 11,
   "metadata": {},
   "outputs": [
    {
     "data": {
      "text/markdown": [
       "## Ratio of voltage divider: 0.722610722610723"
      ],
      "text/plain": [
       "<IPython.core.display.Markdown object>"
      ]
     },
     "execution_count": 11,
     "metadata": {},
     "output_type": "execute_result"
    }
   ],
   "source": [
    "md(f\"## Ratio of voltage divider: {y2/v_in_solution}\")"
   ]
  },
  {
   "cell_type": "code",
   "execution_count": 12,
   "metadata": {},
   "outputs": [
    {
     "data": {
      "text/markdown": [
       "## Proceed to [Voltage Divider](./03-voltage-divider.ipynb)"
      ],
      "text/plain": [
       "<IPython.core.display.Markdown object>"
      ]
     },
     "execution_count": 12,
     "metadata": {},
     "output_type": "execute_result"
    }
   ],
   "source": [
    "md(f\"## Proceed to [Voltage Divider](./03-voltage-divider.ipynb)\")"
   ]
  },
  {
   "cell_type": "code",
   "execution_count": 13,
   "metadata": {},
   "outputs": [],
   "source": [
    "rg=rg_series_value\n",
    "rf=rf_series_value\n",
    "# to be consistent with other cases, we change description here so that \n",
    "vx_chosen=v_ref\n",
    "vref=v_in_solution\n"
   ]
  },
  {
   "cell_type": "code",
   "execution_count": 14,
   "metadata": {},
   "outputs": [
    {
     "name": "stdout",
     "output_type": "stream",
     "text": [
      "Stored 'rf' (Float)\n",
      "Stored 'vx_chosen' (int)\n",
      "Stored 'vref' (Float)\n",
      "Stored 'rg' (Float)\n"
     ]
    }
   ],
   "source": [
    "# Keep this vales as we need them in the Notebooks for the different cases\n",
    "%store rf\n",
    "%store vx_chosen\n",
    "%store vref\n",
    "%store rg\n",
    "\n"
   ]
  }
 ],
 "metadata": {
  "kernelspec": {
   "display_name": "Python 3 (ipykernel)",
   "language": "python",
   "name": "python3"
  },
  "language_info": {
   "codemirror_mode": {
    "name": "ipython",
    "version": 3
   },
   "file_extension": ".py",
   "mimetype": "text/x-python",
   "name": "python",
   "nbconvert_exporter": "python",
   "pygments_lexer": "ipython3",
   "version": "3.9.1"
  },
  "vscode": {
   "interpreter": {
    "hash": "73618078aa7355328b5767d0aabf7a6b84d22841c1d24f391d059f02c5361fef"
   }
  },
  "widgets": {
   "application/vnd.jupyter.widget-state+json": {
    "state": {},
    "version_major": 2,
    "version_minor": 0
   }
  }
 },
 "nbformat": 4,
 "nbformat_minor": 4
}
