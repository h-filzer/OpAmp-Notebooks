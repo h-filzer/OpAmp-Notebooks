{
 "cells": [
  {
   "cell_type": "markdown",
   "metadata": {},
   "source": [
    "### Simulation Case2"
   ]
  },
  {
   "cell_type": "code",
   "execution_count": null,
   "metadata": {
    "tags": [
     "parameters"
    ]
   },
   "outputs": [],
   "source": [
    "%store -r r1_series_value\n",
    "%store -r r2_series_value\n",
    "%store -r vx_chosen\n",
    "%store -r vref\n",
    "%store -r rg\n",
    "%store -r rf_chosen\n",
    "%store -r x1\n",
    "%store -r x2\n",
    "\n",
    "\n",
    "r1_series_value=r1_series_value\n",
    "r2_series_value=r2_series_value\n",
    "vx_chosen=vx_chosen\n",
    "vref=vref\n",
    "rg=rg\n",
    "rf_chosen=rf_chosen\n",
    "x1=x1\n",
    "x2=x2\n",
    "rf_chosen,rg,r1_series_value,r2_series_value,vx_chosen,vref,x1,x2\n"
   ]
  },
  {
   "cell_type": "code",
   "execution_count": null,
   "metadata": {},
   "outputs": [],
   "source": [
    "#Specify Amplitude and DC-Offset for Input signal\n",
    "amplitude=abs(float(x1)-float(x2))/2\n",
    "dc_offset=amplitude"
   ]
  },
  {
   "cell_type": "code",
   "execution_count": null,
   "metadata": {
    "tags": []
   },
   "outputs": [],
   "source": [
    "%matplotlib inline\n",
    "# %pip install sympy numpy pyspice import-ipynb\n",
    "#dill.load_session(session_file_name)\n",
    "import sympy as sp\n",
    "\n",
    "# Importing packages\n",
    "import matplotlib.pyplot as plt\n",
    "import numpy as np\n",
    "\n",
    "from IPython.display import Markdown as md\n",
    "\n",
    "\n",
    "sp.init_printing()\n",
    "\n"
   ]
  },
  {
   "cell_type": "code",
   "execution_count": null,
   "metadata": {},
   "outputs": [],
   "source": [
    "import PySpice.Logging.Logging as Logging\n",
    "logger = Logging.setup_logging()\n",
    "\n",
    "\n",
    "from PySpice.Doc.ExampleTools import find_libraries\n",
    "from PySpice.Spice.Library import SpiceLibrary\n",
    "from PySpice.Probe.Plot import plot\n",
    "from PySpice.Spice.Netlist import SubCircuit,Circuit, SubCircuitFactory\n",
    "from PySpice.Spice.Parser import SpiceParser\n",
    "from PySpice.Unit import *\n",
    "\n",
    "from pathlib import Path\n",
    "libraries_path = find_libraries()\n",
    "spice_library = SpiceLibrary(libraries_path)"
   ]
  },
  {
   "cell_type": "markdown",
   "metadata": {},
   "source": [
    "Set Offset and Amplitude in SIN function"
   ]
  },
  {
   "cell_type": "code",
   "execution_count": null,
   "metadata": {},
   "outputs": [],
   "source": [
    "circuit = Circuit('Case2')\n",
    "circuit.include('./spice-libs/TL072.302')\n",
    "\n",
    "circuit.V(1, 'Vcc', circuit.gnd, 'dc 12' )\n",
    "circuit.V(2, 'Vee',circuit.gnd, 'dc -12' )\n",
    "circuit.V(3, 'Vx', circuit.gnd, 'dc 12' )\n",
    "circuit.V(4, 'Vin', circuit.gnd, f'SIN({dc_offset},{amplitude},1000)' )\n",
    "\n",
    "\n",
    "circuit.R(1, 'Vx', 'u1_plus', 2000)\n",
    "circuit.R(2, 'u1_plus',circuit.gnd, 770)\n",
    "\n",
    "#Rg\n",
    "circuit.R(3, 'u1_out', 'u2_minus', 20000)\n",
    "#Rf\n",
    "circuit.R(4, 'u2_minus','u2_out', 60000)\n",
    "#Rout\n",
    "circuit.R(5, 'u2_out', 'Vout',1000)\n",
    "#1out 1in- 1in+ vcc- 2in+ 2in- 2out vcc+\n",
    "circuit.X(1, 'TL072', 'u1_out','u1_out','u1_plus','Vee','Vin','u2_minus','u2_out','Vcc')\n",
    "\n",
    "#set calculated values\n",
    "circuit.V3.dc_value=vx_chosen\n",
    "circuit.R1.resistance=r1_series_value\n",
    "circuit.R2.resistance=r2_series_value\n",
    "circuit.R3.resistance=rg.evalf()\n",
    "circuit.R4.resistance=rf_chosen\n",
    "simulator = circuit.simulator()\n"
   ]
  },
  {
   "cell_type": "code",
   "execution_count": null,
   "metadata": {},
   "outputs": [],
   "source": [
    "analysis = simulator.transient(step_time=1@u_us, end_time=2@u_ms)\n",
    "\n",
    "plt.plot(analysis.time,analysis.Vin, label='Vin')\n",
    "plt.plot(analysis.time,analysis.Vout, label='Vout')\n",
    "\n",
    "plt.title('Case2')\n",
    "plt.xlabel('Time (t)')\n",
    "plt.ylabel('V')\n",
    "plt.legend()\n",
    "plt.grid()"
   ]
  },
  {
   "cell_type": "code",
   "execution_count": null,
   "metadata": {},
   "outputs": [],
   "source": [
    "analysis.Vout.max(),analysis.Vout.min()"
   ]
  },
  {
   "cell_type": "code",
   "execution_count": null,
   "metadata": {},
   "outputs": [],
   "source": [
    "analysis.Vin.max(),analysis.Vin.min()"
   ]
  },
  {
   "cell_type": "markdown",
   "metadata": {},
   "source": [
    "<div>\n",
    "<img src=\"images/case2.png\" width=\"500\"/>\n",
    "</div>\n"
   ]
  },
  {
   "cell_type": "code",
   "execution_count": null,
   "metadata": {},
   "outputs": [],
   "source": [
    "md(f\"### $ R_f={rf_chosen:.0f}\\Omega,R_g={rg:.0f} R_1={r1_series_value:.0f}\\Omega,R_2={r2_series_value:.0f}\\Omega,V_x={vx_chosen}V,V_ref={vref:.3f}V$\")\n"
   ]
  }
 ],
 "metadata": {
  "kernelspec": {
   "display_name": "Python 3 (ipykernel)",
   "language": "python",
   "name": "python3"
  },
  "language_info": {
   "codemirror_mode": {
    "name": "ipython",
    "version": 3
   },
   "file_extension": ".py",
   "mimetype": "text/x-python",
   "name": "python",
   "nbconvert_exporter": "python",
   "pygments_lexer": "ipython3",
   "version": "3.9.1"
  },
  "vscode": {
   "interpreter": {
    "hash": "73618078aa7355328b5767d0aabf7a6b84d22841c1d24f391d059f02c5361fef"
   }
  },
  "widgets": {
   "application/vnd.jupyter.widget-state+json": {
    "state": {},
    "version_major": 2,
    "version_minor": 0
   }
  }
 },
 "nbformat": 4,
 "nbformat_minor": 4
}
