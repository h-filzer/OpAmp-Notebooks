{
 "cells": [
  {
   "cell_type": "markdown",
   "metadata": {},
   "source": [
    "## CASE 7: Non-Inverting Attenuation with Positive Offset\n",
    "\n",
    "We use superposition for calculating the Vout. (Shorten Voltage Sources)\n",
    "\n",
    "\n",
    "Having $V_{ref}$ shortened to $GND$ \n",
    "\n",
    "$$\n",
    "\\dfrac{V_{out1}}{V_{in}} = \\dfrac{R_2 || R_3}{R_1+(R_2 || R_3)}\n",
    "$$\n",
    "\n",
    "$$\n",
    "V_{out1} = V_{in}*\\dfrac{R_2 || R_3}{R_1+(R_2 || R_3)}\n",
    "$$\n",
    "\n",
    "Having $V_{in}$ shortened to $GND$ \n",
    "\n",
    "$$\n",
    "\\dfrac{V_{out2}}{V_{ref}} = \\dfrac{R_1 || R_2}{R_3+(R_1 || R_2)}\n",
    "$$\n",
    "\n",
    "$$\n",
    "V_{out2} = V_{ref}*\\dfrac{R_1 || R_2}{R_3+(R_1 || R_2)}\n",
    "$$\n",
    "\n",
    "$V_{out}$ is the sum of $V_{ou1}+V_{out2}$ the two:\n",
    "\n",
    "$$\n",
    "V_{out}=V_{out1}+V_{out2}\n",
    "$$\n",
    "\n",
    "\n",
    "We chose $V_{ref}$ to generate the output and $R_1$.\n",
    "\n",
    "<div>\n",
    "<img src=\"http://earmark.net/gesr/opamp/case7_sch.gif\" width=\"500\"/>\n",
    "</div>\n"
   ]
  },
  {
   "cell_type": "code",
   "execution_count": 335,
   "metadata": {},
   "outputs": [],
   "source": [
    "from ESeries import ESeries\n",
    "#Define the E_Series to chose the Resistors from \n",
    "series_range= ESeries.Series.E24"
   ]
  },
  {
   "cell_type": "code",
   "execution_count": 336,
   "metadata": {},
   "outputs": [],
   "source": [
    "%matplotlib inline\n",
    "#%pip install sympy numpy pyspice dill\n",
    "import dill\n",
    "#dill.load_session(session_file_name)\n",
    "import sympy as sp\n",
    "from sympy import solve, symbols, Eq, S\n",
    "from IPython.display import Math, display\n",
    "\n",
    "# Importing packages\n",
    "import matplotlib.pyplot as plt\n",
    "import numpy as np\n",
    "\n",
    "from operator import itemgetter\n",
    "from IPython.display import Markdown as md\n",
    "\n",
    "from ESeries import ESeries\n",
    "\n",
    "sp.init_printing()\n",
    "series= ESeries()\n"
   ]
  },
  {
   "cell_type": "code",
   "execution_count": 337,
   "metadata": {
    "tags": [
     "parameters"
    ]
   },
   "outputs": [
    {
     "data": {
      "image/png": "[encoded data removed]",
      "text/latex": [
       "$\\displaystyle \\left( 0.33, \\  1.65, \\  5, \\  3.3, \\  -5, \\  0\\right)$"
      ],
      "text/plain": [
       "(0.33, 1.65, 5, 3.3, -5, 0)"
      ]
     },
     "execution_count": 337,
     "metadata": {},
     "output_type": "execute_result"
    }
   ],
   "source": [
    "%store -r m\n",
    "%store -r b\n",
    "%store -r x1\n",
    "%store -r y1\n",
    "%store -r x2\n",
    "%store -r y2\n",
    "%store -r Vx\n",
    "m=m\n",
    "b=b\n",
    "x1=x1\n",
    "y1=y1\n",
    "x2=x2\n",
    "y2=y2\n",
    "\n",
    "#chosen Vx, the voltage to generate Vref\n",
    "vx_chosen=12\n",
    "#chose r_1\n",
    "r_1_chosen=100e3\n",
    "m,b,x1,y1,x2,y2\n"
   ]
  },
  {
   "cell_type": "code",
   "execution_count": 338,
   "metadata": {},
   "outputs": [],
   "source": [
    "r_1,r_2,r_3,v_in,v_ref,v_in, v_out1, v_out2, v_out= symbols('R_1 R_2 R_3 V_in V_ref V_in V_out1 V_out2 V_out')\n"
   ]
  },
  {
   "cell_type": "markdown",
   "metadata": {},
   "source": [
    "$V_{out1}$"
   ]
  },
  {
   "cell_type": "code",
   "execution_count": 339,
   "metadata": {},
   "outputs": [
    {
     "data": {
      "image/png": "[encoded data removed]",
      "text/latex": [
       "$\\displaystyle V_{out1} = \\frac{R_{2} R_{3} V_{in}}{\\left(R_{1} + \\frac{R_{2} R_{3}}{R_{2} + R_{3}}\\right) \\left(R_{2} + R_{3}\\right)}$"
      ],
      "text/plain": [
       "               R₂⋅R₃⋅Vᵢₙ        \n",
       "Vₒᵤₜ₁ = ────────────────────────\n",
       "        ⎛      R₂⋅R₃ ⎞          \n",
       "        ⎜R₁ + ───────⎟⋅(R₂ + R₃)\n",
       "        ⎝     R₂ + R₃⎠          "
      ]
     },
     "execution_count": 339,
     "metadata": {},
     "output_type": "execute_result"
    }
   ],
   "source": [
    "vout_1_eq=Eq(v_out1,v_in*(r_2*r_3/(r_2+r_3))/(r_1+(r_2*r_3/(r_2+r_3))))\n",
    "vout_1_eq"
   ]
  },
  {
   "cell_type": "markdown",
   "metadata": {},
   "source": [
    "$V_{out2}$"
   ]
  },
  {
   "cell_type": "code",
   "execution_count": 340,
   "metadata": {},
   "outputs": [
    {
     "data": {
      "image/png": "[encoded data removed]",
      "text/latex": [
       "$\\displaystyle V_{out2} = \\frac{R_{1} R_{2} V_{ref}}{\\left(R_{1} + R_{2}\\right) \\left(\\frac{R_{1} R_{2}}{R_{1} + R_{2}} + R_{3}\\right)}$"
      ],
      "text/plain": [
       "              R₁⋅R₂⋅V_ref       \n",
       "Vₒᵤₜ₂ = ────────────────────────\n",
       "                  ⎛ R₁⋅R₂      ⎞\n",
       "        (R₁ + R₂)⋅⎜─────── + R₃⎟\n",
       "                  ⎝R₁ + R₂     ⎠"
      ]
     },
     "execution_count": 340,
     "metadata": {},
     "output_type": "execute_result"
    }
   ],
   "source": [
    "vout_2_eq=Eq(v_out2,v_ref*(r_1*r_2/(r_1+r_2))/(r_3+(r_1*r_2/(r_1+r_2))))\n",
    "vout_2_eq"
   ]
  },
  {
   "cell_type": "code",
   "execution_count": 341,
   "metadata": {},
   "outputs": [
    {
     "data": {
      "image/png": "[encoded data removed]",
      "text/latex": [
       "$\\displaystyle V_{out} = \\frac{R_{1} R_{2} V_{ref}}{\\left(R_{1} + R_{2}\\right) \\left(\\frac{R_{1} R_{2}}{R_{1} + R_{2}} + R_{3}\\right)} + \\frac{R_{2} R_{3} V_{in}}{\\left(R_{1} + \\frac{R_{2} R_{3}}{R_{2} + R_{3}}\\right) \\left(R_{2} + R_{3}\\right)}$"
      ],
      "text/plain": [
       "             R₁⋅R₂⋅V_ref                 R₂⋅R₃⋅Vᵢₙ        \n",
       "Vₒᵤₜ = ──────────────────────── + ────────────────────────\n",
       "                 ⎛ R₁⋅R₂      ⎞   ⎛      R₂⋅R₃ ⎞          \n",
       "       (R₁ + R₂)⋅⎜─────── + R₃⎟   ⎜R₁ + ───────⎟⋅(R₂ + R₃)\n",
       "                 ⎝R₁ + R₂     ⎠   ⎝     R₂ + R₃⎠          "
      ]
     },
     "execution_count": 341,
     "metadata": {},
     "output_type": "execute_result"
    }
   ],
   "source": [
    "v_out_eq=Eq(v_out,vout_1_eq.rhs+vout_2_eq.rhs)\n",
    "v_out_eq"
   ]
  },
  {
   "cell_type": "code",
   "execution_count": 342,
   "metadata": {},
   "outputs": [
    {
     "data": {
      "image/png": "[encoded data removed]",
      "text/latex": [
       "$\\displaystyle \\left( 61971.8309859155, \\  240000.0\\right)$"
      ],
      "text/plain": [
       "(61971.8309859155, 240000.0)"
      ]
     },
     "execution_count": 342,
     "metadata": {},
     "output_type": "execute_result"
    }
   ],
   "source": [
    "#r_1_chosen, _=series.preferred_value(r_1_chosen)\n",
    "r_2,r_3=solve([\n",
    "v_out_eq.subs(v_ref,vx_chosen).subs(v_in,x1).subs(v_out,y1).subs(r_1,r_1_chosen),\n",
    "v_out_eq.subs(v_ref,vx_chosen).subs(v_in,x2).subs(v_out,y2).subs(r_1,r_1_chosen),\n",
    "],\n",
    "[r_2,r_3],\n",
    ")[0]\n",
    "r_2,r_3"
   ]
  },
  {
   "cell_type": "code",
   "execution_count": 343,
   "metadata": {},
   "outputs": [
    {
     "data": {
      "image/png": "[encoded data removed]",
      "text/latex": [
       "$\\displaystyle \\left( 62000.0, \\  240000.0\\right)$"
      ],
      "text/plain": [
       "(62000.0, 240000.0)"
      ]
     },
     "execution_count": 343,
     "metadata": {},
     "output_type": "execute_result"
    }
   ],
   "source": [
    "#find sreies resistor for calculated values_2\n",
    "r_2,error_r_2=series.preferred_value(r_value=r_2,series=ESeries.Series.E24)\n",
    "r_3, error_r_3=series.preferred_value(r_value=r_3,series=ESeries.Series.E24)\n",
    "r_2,r_3"
   ]
  },
  {
   "cell_type": "code",
   "execution_count": 344,
   "metadata": {},
   "outputs": [
    {
     "data": {
      "text/markdown": [
       "### $R_1 = 100000.000\\Omega , R_2 = 62000.000\\Omega , R_3= 240000.000, V_ref= 12V$"
      ],
      "text/plain": [
       "<IPython.core.display.Markdown object>"
      ]
     },
     "execution_count": 344,
     "metadata": {},
     "output_type": "execute_result"
    }
   ],
   "source": [
    "md(f\"### $R_1 = {r_1_chosen:.3f}\\Omega , R_2 = {r_2:.3f}\\Omega , R_3= {r_3:.3f}, V_ref= {vx_chosen}V$\")"
   ]
  }
 ],
 "metadata": {
  "kernelspec": {
   "display_name": "Python 3 (ipykernel)",
   "language": "python",
   "name": "python3"
  },
  "language_info": {
   "codemirror_mode": {
    "name": "ipython",
    "version": 3
   },
   "file_extension": ".py",
   "mimetype": "text/x-python",
   "name": "python",
   "nbconvert_exporter": "python",
   "pygments_lexer": "ipython3",
   "version": "3.9.1"
  },
  "vscode": {
   "interpreter": {
    "hash": "73618078aa7355328b5767d0aabf7a6b84d22841c1d24f391d059f02c5361fef"
   }
  },
  "widgets": {
   "application/vnd.jupyter.widget-state+json": {
    "state": {},
    "version_major": 2,
    "version_minor": 0
   }
  }
 },
 "nbformat": 4,
 "nbformat_minor": 4
}
