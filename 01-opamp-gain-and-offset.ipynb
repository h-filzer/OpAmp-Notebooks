{
 "cells": [
  {
   "cell_type": "markdown",
   "metadata": {},
   "source": [
    "# Simple OpAmp Voltage Adaption\n",
    "\n",
    "We try to choose a reference design for the needs of different voltage adaption using different OpAmp transfer characteristics. Therefore we need the expected output voltages for the given input voltages. With this information we can derive the linear transfer function. Depending on sign of the slope and the intercept we choose the corresponding reference design. \n",
    "\n",
    "Most of the equations are taken from _OP AMPS FOR EVERYONE ISBN-13: 9780128116487_ from Carter and Mancini as well as the document _Designing Gain and Offset in Thirty Seconds_ from Ti ([SLOA097](https://www.ti.com/lit/an/sloa097/sloa097.pdf?ts=1669554471541&ref_url=https%253A%252F%252Fwww.google.com%252F))\n",
    "\n",
    "To derive the transfer function you have to provide two pairs of input and output values.\n",
    "\n",
    "* x1 is the first input value e.g. the minimum value for the input\n",
    "* y1 is the expected output vale for x1\n",
    "* x2 is the second input vale e.g. the maximum value for the input\n",
    "* y2 ist the expected output value for x2\n",
    "\n",
    "After specifying the values the linear transfer function is derived in the form of $y=\\pm m*x\\pm b$\n",
    "\n",
    "Depending on the sign of slope $m$ and intercept $b$ different OpAmp configurations will be used to fulfill the transfer function.\n",
    "We do not take into account the frequency or stability of the chosen reference design for now.\n",
    " "
   ]
  },
  {
   "cell_type": "markdown",
   "metadata": {},
   "source": [
    "## Define transfer characteristic\n",
    "\n",
    "Define input (x-values) and output (y-values) voltages for the extremes on the input and the expected output voltages. No need to have it ordered (low to FS or vice versa)\n"
   ]
  },
  {
   "cell_type": "code",
   "execution_count": 73,
   "metadata": {
    "tags": [
     "parameters"
    ]
   },
   "outputs": [],
   "source": [
    "from sympy import  Rational,S\n",
    "#### Signal levels\n",
    "#Output:\n",
    "#Tri: 0V to Vcc*1/3\n",
    "#Saw: 0V to 2/3*Vcc\n",
    "#Pulse: 0V to Vcc-0.9V\n",
    "#Input:\n",
    "#PWM 0V to 1/3*Vcc (0%-100%)\n",
    "\n",
    "Vcc=10\n",
    "\n",
    "\n",
    "#x1 is the first extreme input voltage\n",
    "#y1 corresponds to the input of x1\n",
    "\n",
    "#PWM Input +-5 to Vcc/3, inverted\n",
    "#x1=5; y1=0; x2=-5; y2=Rational(Vcc,3)\n",
    "\n",
    "#Tri output ()\n",
    "x1=0; y1=-5; x2=Rational(1,20)+Rational(Vcc,3); y2=5\n",
    "\n",
    "#x1=0; y1=-5; x2=Rational(3.5); y2=5\n",
    "\n",
    "\n",
    "#SAW output case2 (max. 7.4 Vpp, 7.0 max +)\n",
    "#x1=0; y1=-5; x2=Rational(2*Vcc,3); y2=5\n",
    "#x1=0; y1=-5; x2=Rational(7,2); y2=5\n",
    "\n",
    "\n",
    "#Pulse\n",
    "#x1=Rational((Vcc-1)); y1=-5; x2=0; y2=5\n",
    "\n",
    "#Pulse inverted output case3\n",
    "#x1=Rational((Vcc-1)); y1=-5; x2=0; y2=5\n"
   ]
  },
  {
   "cell_type": "code",
   "execution_count": 74,
   "metadata": {},
   "outputs": [],
   "source": [
    "%matplotlib inline\n",
    "#%pip install sympy numpy pyspice"
   ]
  },
  {
   "cell_type": "code",
   "execution_count": 75,
   "metadata": {
    "tags": []
   },
   "outputs": [],
   "source": [
    "import sympy as sp\n",
    "from sympy import solve, symbols, nsimplify, Rational, latex, Eq, solveset, S, linsolve, Matrix, N\n",
    "from IPython.display import Math, display\n",
    "\n",
    "# Importing packages\n",
    "import matplotlib.pyplot as plt\n",
    "import numpy as np\n",
    "\n",
    "from operator import itemgetter\n",
    "from IPython.display import Markdown as md\n",
    "\n",
    "\n",
    "sp.init_printing()\n"
   ]
  },
  {
   "cell_type": "markdown",
   "metadata": {},
   "source": [
    "## Develop the transfer function\n",
    "\n",
    "Usually we have a linear transfer function expressed in the form \n",
    "\n",
    "$$ \n",
    "y =\\pm \\,mx\\pm \\,b\n",
    "$$\n",
    "\n",
    "Now calculate the $slope$ $m$ and $intercept$ $b$ with \n",
    "\n",
    "* $x_{1}$ for the first input Voltage to get $y_{1}$ output voltage\n",
    "* $x_{2}$ for the second input voltage to get $y_{2}$ output voltage\n",
    "\n",
    "For all two pairs of $x_{..}$ and $y_{..}$ values we define a linear function to determine $slope=m$ and $intercept=b$\n",
    "\n",
    "\n",
    "[Reference](https://www.ti.com/lit/an/sloa097/sloa097.pdf)\n"
   ]
  },
  {
   "cell_type": "markdown",
   "metadata": {},
   "source": [
    "#### Slope & Intercept"
   ]
  },
  {
   "cell_type": "markdown",
   "metadata": {},
   "source": [
    "Resolve slope & intercept. Two unknowns with two functions."
   ]
  },
  {
   "cell_type": "code",
   "execution_count": 76,
   "metadata": {},
   "outputs": [
    {
     "data": {
      "text/plain": [
       "{'m': 600/203, 'b': -5}"
      ]
     },
     "execution_count": 76,
     "metadata": {},
     "output_type": "execute_result"
    }
   ],
   "source": [
    "\n",
    "y,x,m, b=symbols('y x m b', real=True)\n",
    "lin_eq=Eq(y,m*x+b)\n",
    "m,b=itemgetter(m,b)(solve([\n",
    "lin_eq.subs([(x,x1),(y,y1)]),\n",
    "lin_eq.subs([(x,x2),(y,y2)])\n",
    "],\n",
    "[m,b],\n",
    "))\n",
    "{'m':m,'b':b}"
   ]
  },
  {
   "cell_type": "code",
   "execution_count": 77,
   "metadata": {},
   "outputs": [
    {
     "data": {
      "image/png": "[encoded data removed]",
      "text/plain": [
       "<Figure size 640x480 with 1 Axes>"
      ]
     },
     "metadata": {},
     "output_type": "display_data"
    },
    {
     "data": {
      "text/plain": [
       "<sympy.plotting.plot.Plot at 0x7f110db89df0>"
      ]
     },
     "execution_count": 77,
     "metadata": {},
     "output_type": "execute_result"
    }
   ],
   "source": [
    "sp.plot(m*x+b, (x,x1,x2),label=f\"Vout={b}+Vin*{m}\", xlabel=\"Vin (V)\", ylabel=\"Vout (V)\", title=\"Transfer Function Plot\", legend=True, adaptive=False, nb_of_points=2)"
   ]
  },
  {
   "cell_type": "markdown",
   "metadata": {},
   "source": [
    "## Identify Case\n",
    "Now we know the transfer function we can derive the case (which OpAmp Circuit) we can use to fulfill the requirements."
   ]
  },
  {
   "cell_type": "code",
   "execution_count": 78,
   "metadata": {},
   "outputs": [
    {
     "data": {
      "text/plain": [
       "'y=600/203*x+-5 We have a Non Inverting OpAmp with a negative offset. Non-Inverting with Negative Offset, b is negative so applied to V-, proceed with Case 2'"
      ]
     },
     "execution_count": 78,
     "metadata": {},
     "output_type": "execute_result"
    }
   ],
   "source": [
    "invertingOpAmp=\"Inverting OpAmp\"\n",
    "nonInvertingOpAmp=\"Non Inverting OpAmp\"\n",
    "isInvertingOpAmp, opAmpType= (True,invertingOpAmp) if float(m) < 0 else (False,nonInvertingOpAmp)\n",
    "\n",
    "isPostitiveIntercept,interceptSign=(True,\"positive\") if float(b) > 0 else (False,\"negative\")\n",
    "\n",
    "nisa=\"Non-Inverting Summing Amplifier, b is positive so applied to V+, Non Inverting Adder, proceed with Case 1\"\n",
    "nino=\"Non-Inverting with Negative Offset, b is negative so applied to V-, proceed with Case 2\"\n",
    "iapo=\"Inverting Amplifier, b is positive so applied to V+, Differential Amplifier, proceed with Case 3\"\n",
    "iano=\"Differential Amplifier, b is negative so applied to V-, Adder, proceed with Case 4\"\n",
    "\n",
    "referenceCircuit=\"Unknown\"\n",
    "case=0\n",
    "\n",
    "if (not isInvertingOpAmp and isPostitiveIntercept):\n",
    "        referenceCircuit=nisa\n",
    "        case=1\n",
    "if (not isInvertingOpAmp and not isPostitiveIntercept):\n",
    "        referenceCircuit=nino\n",
    "        case=2\n",
    "if (isInvertingOpAmp and isPostitiveIntercept):\n",
    "        referenceCircuit=iapo\n",
    "        case=3\n",
    "if (isInvertingOpAmp and not isPostitiveIntercept):\n",
    "        referenceCircuit=iano\n",
    "        case=4\n",
    "\n",
    "f\"y={m}*x+{b} We have a {opAmpType} with a {interceptSign} offset. {referenceCircuit}\"\n"
   ]
  },
  {
   "cell_type": "code",
   "execution_count": 79,
   "metadata": {},
   "outputs": [
    {
     "data": {
      "text/markdown": [
       "## Proceed to [Case2](./02-case2.ipynb)"
      ],
      "text/plain": [
       "<IPython.core.display.Markdown object>"
      ]
     },
     "execution_count": 79,
     "metadata": {},
     "output_type": "execute_result"
    }
   ],
   "source": [
    "md(f\"## Proceed to [Case{case}](./02-case{case}.ipynb)\")"
   ]
  },
  {
   "cell_type": "code",
   "execution_count": 80,
   "metadata": {},
   "outputs": [
    {
     "name": "stdout",
     "output_type": "stream",
     "text": [
      "Stored 'm' (Rational)\n",
      "Stored 'b' (Integer)\n",
      "Stored 'x1' (int)\n",
      "Stored 'y1' (int)\n",
      "Stored 'x2' (Rational)\n",
      "Stored 'y2' (int)\n",
      "Stored 'case' (int)\n"
     ]
    }
   ],
   "source": [
    "# Keep this vales as we need them in the Notebooks for the different cases\n",
    "%store m\n",
    "%store b\n",
    "%store x1\n",
    "%store y1\n",
    "%store x2\n",
    "%store y2\n",
    "%store case"
   ]
  }
 ],
 "metadata": {
  "kernelspec": {
   "display_name": "Python 3 (ipykernel)",
   "language": "python",
   "name": "python3"
  },
  "language_info": {
   "codemirror_mode": {
    "name": "ipython",
    "version": 3
   },
   "file_extension": ".py",
   "mimetype": "text/x-python",
   "name": "python",
   "nbconvert_exporter": "python",
   "pygments_lexer": "ipython3",
   "version": "3.9.1"
  },
  "vscode": {
   "interpreter": {
    "hash": "73618078aa7355328b5767d0aabf7a6b84d22841c1d24f391d059f02c5361fef"
   }
  },
  "widgets": {
   "application/vnd.jupyter.widget-state+json": {
    "state": {},
    "version_major": 2,
    "version_minor": 0
   }
  }
 },
 "nbformat": 4,
 "nbformat_minor": 4
}
