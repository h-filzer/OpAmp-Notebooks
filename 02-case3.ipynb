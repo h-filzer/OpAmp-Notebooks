{
 "cells": [
  {
   "cell_type": "markdown",
   "metadata": {},
   "source": [
    "## Case 3 Inverting Amplifier, b is positive so applied to V+, Differential Amplifier\n",
    "\n",
    "(We can add $V_{inv}$ as it is negative)\n",
    "\n",
    "Having $V_{ref}$ shortened to $GND$ we have a _Inverting Amplifier_\n",
    "\n",
    "$$\n",
    "V_{outi}=V_{in}\\dfrac{-R_f}{R_g}\n",
    "$$\n",
    "\n",
    "whith $m$\n",
    "\n",
    "$$\n",
    "m=\\dfrac{-R_f}{R_g}\n",
    "$$\n",
    "\n",
    "Having $V_{in}$ shortened to $GND$ we have a _Nonnverting Amplifier_\n",
    "\n",
    "$$\n",
    "V_{outn} = V_{ref} \\dfrac{-R_f} {R_g}\n",
    "$$\n",
    "\n",
    "with $b$\n",
    "\n",
    "$$\n",
    "b=V_{ref}\\dfrac{(R_f+R_g)}{R_g}\n",
    "$$\n",
    "\n",
    "The sum is $V_{out}$\n",
    "\n",
    "$$\n",
    "V_{out}=V_{outi}+V_{outn}\n",
    "$$\n",
    "\n",
    "We assume that $V_{ref}$ is the voltage needed to provide the given output. To generate $V_{ref}$ from $V_{cc}$ or other voltage source see below.\n"
   ]
  },
  {
   "cell_type": "markdown",
   "metadata": {},
   "source": [
    "<div>\n",
    "<img src=\"images/case3.png\" width=\"500\"/>\n",
    "</div>\n"
   ]
  },
  {
   "cell_type": "code",
   "execution_count": 85,
   "metadata": {},
   "outputs": [],
   "source": [
    "from ESeries import ESeries\n",
    "#Define the E_Series to chose the Resistors from \n",
    "series_range= ESeries.Series.E24"
   ]
  },
  {
   "cell_type": "code",
   "execution_count": 86,
   "metadata": {
    "tags": []
   },
   "outputs": [],
   "source": [
    "%matplotlib inline\n",
    "# %pip install sympy numpy pyspice import-ipynb\n",
    "import dill\n",
    "#dill.load_session(session_file_name)\n",
    "import sympy as sp\n",
    "from sympy import solve, symbols, Eq, S\n",
    "from IPython.display import Math, display\n",
    "\n",
    "# Importing packages\n",
    "import matplotlib.pyplot as plt\n",
    "import numpy as np\n",
    "\n",
    "from operator import itemgetter\n",
    "from IPython.display import Markdown as md\n",
    "\n",
    "from ESeries import ESeries\n",
    "\n",
    "sp.init_printing()\n",
    "series= ESeries()\n",
    "\n"
   ]
  },
  {
   "cell_type": "code",
   "execution_count": 87,
   "metadata": {
    "tags": []
   },
   "outputs": [
    {
     "data": {
      "image/png": "[encoded data removed]",
      "text/latex": [
       "$\\displaystyle \\left( - \\frac{5629499534213120}{15875188686480999}, \\  \\frac{5}{3}, \\  \\frac{5291729562160333}{1125899906842624}, \\  0, \\  - \\frac{5291729562160333}{1125899906842624}, \\  \\frac{10}{3}, \\  12\\right)$"
      ],
      "text/plain": [
       "⎛-5629499534213120        5291729562160333     -5291729562160333           ⎞\n",
       "⎜──────────────────, 5/3, ────────────────, 0, ──────────────────, 10/3, 12⎟\n",
       "⎝15875188686480999        1125899906842624      1125899906842624           ⎠"
      ]
     },
     "execution_count": 87,
     "metadata": {},
     "output_type": "execute_result"
    }
   ],
   "source": [
    "%store -r m\n",
    "%store -r b\n",
    "%store -r x1\n",
    "%store -r y1\n",
    "%store -r x2\n",
    "%store -r y2\n",
    "%store -r Vx\n",
    "m = m\n",
    "b = b\n",
    "x1 = x1\n",
    "y1 = y1\n",
    "x2 = x2\n",
    "y2 = y2\n",
    "# Choosen Vx, the voltage to generate Vref\n",
    "vx_chosen = Vx\n",
    "m, b, x1, y1, x2, y2,vx_chosen\n"
   ]
  },
  {
   "cell_type": "code",
   "execution_count": 88,
   "metadata": {},
   "outputs": [],
   "source": [
    "rf, rg, vref = symbols('R_f R_g V_ref')"
   ]
  },
  {
   "cell_type": "markdown",
   "metadata": {},
   "source": [
    "Solve for $R_g$ for given slope $m$\n",
    "\n",
    "$$\n",
    "m=\\dfrac{-R_f}{R_g}\n",
    "$$\n"
   ]
  },
  {
   "cell_type": "code",
   "execution_count": 89,
   "metadata": {},
   "outputs": [
    {
     "data": {
      "image/png": "[encoded data removed]",
      "text/latex": [
       "$\\displaystyle \\left( 82000.0, \\  30000.0, \\  0.0112437294585712\\right)$"
      ],
      "text/plain": [
       "(82000.0, 30000.0, 0.0112437294585712)"
      ]
     },
     "execution_count": 89,
     "metadata": {},
     "output_type": "execute_result"
    }
   ],
   "source": [
    "inverting_ratio=series.inverting_gain_resistors(gain=m,rf_min=30e3,series=series_range)\n",
    "rg_series_value=inverting_ratio['rg']\n",
    "rf_series_value=inverting_ratio['rf']\n",
    "delta_ratio=inverting_ratio['ratio_difference']\n",
    "(rg_series_value,rf_series_value,delta_ratio)"
   ]
  },
  {
   "cell_type": "code",
   "execution_count": 90,
   "metadata": {},
   "outputs": [
    {
     "data": {
      "image/png": "[encoded data removed]",
      "text/latex": [
       "$\\displaystyle \\frac{15875188686480999 R_{f}}{5629499534213120}$"
      ],
      "text/plain": [
       "15875188686480999⋅R_f\n",
       "─────────────────────\n",
       "   5629499534213120  "
      ]
     },
     "execution_count": 90,
     "metadata": {},
     "output_type": "execute_result"
    }
   ],
   "source": [
    "# Solve for Rg in respect to m\n",
    "rg=solve(Eq(m, -rf/rg), [rg])[0]\n",
    "rg"
   ]
  },
  {
   "cell_type": "code",
   "execution_count": 91,
   "metadata": {},
   "outputs": [
    {
     "data": {
      "image/png": "[encoded data removed]",
      "text/latex": [
       "$\\displaystyle 84600.0$"
      ],
      "text/plain": [
       "84600.0000000000"
      ]
     },
     "execution_count": 91,
     "metadata": {},
     "output_type": "execute_result"
    }
   ],
   "source": [
    "\n",
    "#prove that for a given $R_f$ $R_g$ is in range\n",
    "_.subs(rf, rf_series_value)"
   ]
  },
  {
   "cell_type": "code",
   "execution_count": 92,
   "metadata": {},
   "outputs": [
    {
     "data": {
      "text/markdown": [
       "### E-24-Series Resistor value for $R_g = 82000.0 \\Omega$"
      ],
      "text/plain": [
       "<IPython.core.display.Markdown object>"
      ]
     },
     "execution_count": 92,
     "metadata": {},
     "output_type": "execute_result"
    }
   ],
   "source": [
    "md(f\"### E-{series_range.value}-Series Resistor value for $R_g = {rg_series_value:.1f} \\Omega$\")"
   ]
  },
  {
   "cell_type": "markdown",
   "metadata": {},
   "source": [
    "Solve for $V_{ref}$ for a given intercept $b$\n",
    "\n",
    "$$\n",
    "b=V_{ref}* \\dfrac{R_f+R_g}{R_g}\n",
    "$$\n"
   ]
  },
  {
   "cell_type": "code",
   "execution_count": 93,
   "metadata": {},
   "outputs": [
    {
     "data": {
      "image/png": "[encoded data removed]",
      "text/latex": [
       "$\\displaystyle \\frac{26458647810801665}{21504688220694119}$"
      ],
      "text/plain": [
       "26458647810801665\n",
       "─────────────────\n",
       "21504688220694119"
      ]
     },
     "execution_count": 93,
     "metadata": {},
     "output_type": "execute_result"
    }
   ],
   "source": [
    "vref_solved = solve(Eq(b, vref*(rf+rg)/rg), [vref])[0]\n",
    "vref=vref_solved.subs(rf,rf_series_value).subs(rg, rg_series_value)\n",
    "vref"
   ]
  },
  {
   "cell_type": "code",
   "execution_count": 94,
   "metadata": {},
   "outputs": [
    {
     "data": {
      "image/png": "[encoded data removed]",
      "text/latex": [
       "$\\displaystyle \\left( \\frac{5291729562160333}{1125899906842624}, \\  0\\right)$"
      ],
      "text/plain": [
       "⎛5291729562160333   ⎞\n",
       "⎜────────────────, 0⎟\n",
       "⎝1125899906842624   ⎠"
      ]
     },
     "execution_count": 94,
     "metadata": {},
     "output_type": "execute_result"
    }
   ],
   "source": [
    "#verification\n",
    "vout1=x1*-rf/rg+vref*(rf+rg)/rg\n",
    "vout1=vout1.subs(rf,rf_series_value).subs(rg, rg_series_value)\n",
    "(x1,vout1)"
   ]
  },
  {
   "cell_type": "code",
   "execution_count": 95,
   "metadata": {},
   "outputs": [
    {
     "data": {
      "image/png": "[encoded data removed]",
      "text/latex": [
       "$\\displaystyle \\left( - \\frac{5291729562160333}{1125899906842624}, \\  \\frac{10}{3}\\right)$"
      ],
      "text/plain": [
       "⎛-5291729562160333       ⎞\n",
       "⎜──────────────────, 10/3⎟\n",
       "⎝ 1125899906842624       ⎠"
      ]
     },
     "execution_count": 95,
     "metadata": {},
     "output_type": "execute_result"
    }
   ],
   "source": [
    "#verification\n",
    "vout2=x2*-rf/rg+vref*(rf+rg)/rg\n",
    "vout2=vout2.subs(rf,rf_series_value).subs(rg, rg_series_value)\n",
    "(x2,vout2)"
   ]
  },
  {
   "cell_type": "code",
   "execution_count": 96,
   "metadata": {},
   "outputs": [
    {
     "data": {
      "text/markdown": [
       "### $R_f = 30000\\Omega , R_g = 82000\\Omega , V_ref= 1.230V$"
      ],
      "text/plain": [
       "<IPython.core.display.Markdown object>"
      ]
     },
     "execution_count": 96,
     "metadata": {},
     "output_type": "execute_result"
    }
   ],
   "source": [
    "md(f\"### $R_f = {rf_series_value:.0f}\\Omega , R_g = {rg_series_value:.0f}\\Omega , V_ref= {vref:.3f}V$\")\n"
   ]
  },
  {
   "cell_type": "markdown",
   "metadata": {},
   "source": [
    "With known $V_ref$ we can design a source around this value using a voltage divider\n",
    "\n",
    "$$\n",
    "\\dfrac{V_{ref}}{V_{x}}=\\dfrac{R_2}{R1+R_2}\n",
    "$$\n"
   ]
  },
  {
   "cell_type": "code",
   "execution_count": 97,
   "metadata": {},
   "outputs": [
    {
     "data": {
      "text/markdown": [
       "## Proceed to [Voltage Divider](./03-voltage-divider.ipynb)"
      ],
      "text/plain": [
       "<IPython.core.display.Markdown object>"
      ]
     },
     "execution_count": 97,
     "metadata": {},
     "output_type": "execute_result"
    }
   ],
   "source": [
    "md(f\"## Proceed to [Voltage Divider](./03-voltage-divider.ipynb)\")"
   ]
  },
  {
   "cell_type": "code",
   "execution_count": 98,
   "metadata": {},
   "outputs": [
    {
     "name": "stdout",
     "output_type": "stream",
     "text": [
      "Stored 'rf' (Float)\n",
      "Stored 'vref' (Rational)\n",
      "Stored 'rg' (Float)\n"
     ]
    }
   ],
   "source": [
    "rg=rg_series_value\n",
    "rf=rf_series_value\n",
    "# Keep this vales as we need them in the Notebooks for the different cases\n",
    "%store rf\n",
    "%store vref\n",
    "%store rg"
   ]
  }
 ],
 "metadata": {
  "kernelspec": {
   "display_name": "Python 3 (ipykernel)",
   "language": "python",
   "name": "python3"
  },
  "language_info": {
   "codemirror_mode": {
    "name": "ipython",
    "version": 3
   },
   "file_extension": ".py",
   "mimetype": "text/x-python",
   "name": "python",
   "nbconvert_exporter": "python",
   "pygments_lexer": "ipython3",
   "version": "3.9.1"
  },
  "vscode": {
   "interpreter": {
    "hash": "73618078aa7355328b5767d0aabf7a6b84d22841c1d24f391d059f02c5361fef"
   }
  },
  "widgets": {
   "application/vnd.jupyter.widget-state+json": {
    "state": {},
    "version_major": 2,
    "version_minor": 0
   }
  }
 },
 "nbformat": 4,
 "nbformat_minor": 4
}
